{
 "cells": [
  {
   "cell_type": "code",
   "execution_count": 1,
   "metadata": {},
   "outputs": [
    {
     "name": "stderr",
     "output_type": "stream",
     "text": [
      "Using TensorFlow backend.\n"
     ]
    },
    {
     "name": "stdout",
     "output_type": "stream",
     "text": [
      "Found 8000 images belonging to 2 classes.\n",
      "Found 2000 images belonging to 2 classes.\n",
      "WARNING:tensorflow:From C:\\Users\\Christy\\Anaconda3\\lib\\site-packages\\tensorflow\\python\\framework\\op_def_library.py:263: colocate_with (from tensorflow.python.framework.ops) is deprecated and will be removed in a future version.\n",
      "Instructions for updating:\n",
      "Colocations handled automatically by placer.\n",
      "WARNING:tensorflow:From C:\\Users\\Christy\\Anaconda3\\lib\\site-packages\\tensorflow\\python\\ops\\math_ops.py:3066: to_int32 (from tensorflow.python.ops.math_ops) is deprecated and will be removed in a future version.\n",
      "Instructions for updating:\n",
      "Use tf.cast instead.\n",
      "Epoch 1/50\n",
      "250/250 [==============================] - 917s 4s/step - loss: 0.7205 - acc: 0.5776 - val_loss: 0.7252 - val_acc: 0.5505\n",
      "Epoch 2/50\n",
      "250/250 [==============================] - 876s 4s/step - loss: 0.6372 - acc: 0.6456 - val_loss: 0.6836 - val_acc: 0.6110\n",
      "Epoch 3/50\n",
      "250/250 [==============================] - 878s 4s/step - loss: 0.5915 - acc: 0.6865 - val_loss: 1.3000 - val_acc: 0.5560\n",
      "Epoch 4/50\n",
      "250/250 [==============================] - 879s 4s/step - loss: 0.5523 - acc: 0.7114 - val_loss: 0.8244 - val_acc: 0.6115\n",
      "Epoch 5/50\n",
      "250/250 [==============================] - 884s 4s/step - loss: 0.5209 - acc: 0.7397 - val_loss: 0.5449 - val_acc: 0.7235\n",
      "Epoch 6/50\n",
      "250/250 [==============================] - 869s 3s/step - loss: 0.4861 - acc: 0.7660 - val_loss: 0.6625 - val_acc: 0.6295\n",
      "Epoch 7/50\n",
      "250/250 [==============================] - 787s 3s/step - loss: 0.4635 - acc: 0.7781 - val_loss: 0.5337 - val_acc: 0.7510\n",
      "Epoch 8/50\n",
      "250/250 [==============================] - 664s 3s/step - loss: 0.4329 - acc: 0.7988 - val_loss: 0.6687 - val_acc: 0.6695\n",
      "Epoch 9/50\n",
      "250/250 [==============================] - 653s 3s/step - loss: 0.4197 - acc: 0.8007 - val_loss: 0.4196 - val_acc: 0.8050\n",
      "Epoch 10/50\n",
      "250/250 [==============================] - 650s 3s/step - loss: 0.3976 - acc: 0.8133 - val_loss: 0.4282 - val_acc: 0.8000\n",
      "Epoch 11/50\n",
      "250/250 [==============================] - 651s 3s/step - loss: 0.3782 - acc: 0.8294 - val_loss: 0.4235 - val_acc: 0.7935\n",
      "Epoch 12/50\n",
      "250/250 [==============================] - 658s 3s/step - loss: 0.3570 - acc: 0.8424 - val_loss: 0.4152 - val_acc: 0.8145\n",
      "Epoch 13/50\n",
      "250/250 [==============================] - 668s 3s/step - loss: 0.3401 - acc: 0.8462 - val_loss: 0.5373 - val_acc: 0.7385\n",
      "Epoch 14/50\n",
      "250/250 [==============================] - 654s 3s/step - loss: 0.3335 - acc: 0.8514 - val_loss: 0.5741 - val_acc: 0.7105\n",
      "Epoch 15/50\n",
      "250/250 [==============================] - 644s 3s/step - loss: 0.3115 - acc: 0.8646 - val_loss: 0.5109 - val_acc: 0.7565\n",
      "Epoch 16/50\n",
      "250/250 [==============================] - 660s 3s/step - loss: 0.3021 - acc: 0.8691 - val_loss: 0.4006 - val_acc: 0.8050\n",
      "Epoch 17/50\n",
      "250/250 [==============================] - 716s 3s/step - loss: 0.2837 - acc: 0.8776 - val_loss: 0.3687 - val_acc: 0.8465\n",
      "Epoch 18/50\n",
      "250/250 [==============================] - 674s 3s/step - loss: 0.2839 - acc: 0.8790 - val_loss: 0.3821 - val_acc: 0.8340\n",
      "Epoch 19/50\n",
      "250/250 [==============================] - 671s 3s/step - loss: 0.2726 - acc: 0.8845 - val_loss: 0.3156 - val_acc: 0.8595\n",
      "Epoch 20/50\n",
      "250/250 [==============================] - 671s 3s/step - loss: 0.2594 - acc: 0.8895 - val_loss: 0.4192 - val_acc: 0.8150\n",
      "Epoch 21/50\n",
      "250/250 [==============================] - 665s 3s/step - loss: 0.2481 - acc: 0.8969 - val_loss: 0.3896 - val_acc: 0.8285\n",
      "Epoch 22/50\n",
      "250/250 [==============================] - 645s 3s/step - loss: 0.2480 - acc: 0.8961 - val_loss: 0.3274 - val_acc: 0.8460\n",
      "Epoch 23/50\n",
      "250/250 [==============================] - 649s 3s/step - loss: 0.2396 - acc: 0.8978 - val_loss: 0.3604 - val_acc: 0.8455\n",
      "Epoch 24/50\n",
      "250/250 [==============================] - 639s 3s/step - loss: 0.2236 - acc: 0.9059 - val_loss: 0.3325 - val_acc: 0.8630\n",
      "Epoch 25/50\n",
      "250/250 [==============================] - 638s 3s/step - loss: 0.2169 - acc: 0.9098 - val_loss: 0.4308 - val_acc: 0.8155\n",
      "Epoch 26/50\n",
      "250/250 [==============================] - 624s 2s/step - loss: 0.2081 - acc: 0.9135 - val_loss: 0.3993 - val_acc: 0.8300\n",
      "Epoch 27/50\n",
      "250/250 [==============================] - 626s 3s/step - loss: 0.1947 - acc: 0.9197 - val_loss: 0.3213 - val_acc: 0.8740\n",
      "Epoch 28/50\n",
      "250/250 [==============================] - 625s 2s/step - loss: 0.1962 - acc: 0.9204 - val_loss: 0.3497 - val_acc: 0.8435\n",
      "Epoch 29/50\n",
      "250/250 [==============================] - 628s 3s/step - loss: 0.1920 - acc: 0.9220 - val_loss: 0.6914 - val_acc: 0.7490\n",
      "Epoch 30/50\n",
      "250/250 [==============================] - 672s 3s/step - loss: 0.1874 - acc: 0.9253 - val_loss: 0.4207 - val_acc: 0.8455\n",
      "Epoch 31/50\n",
      "250/250 [==============================] - 663s 3s/step - loss: 0.1773 - acc: 0.9314 - val_loss: 0.4749 - val_acc: 0.7765\n",
      "Epoch 32/50\n",
      "250/250 [==============================] - 644s 3s/step - loss: 0.1650 - acc: 0.9344 - val_loss: 0.6013 - val_acc: 0.7550\n",
      "Epoch 33/50\n",
      "250/250 [==============================] - 626s 3s/step - loss: 0.1594 - acc: 0.9361 - val_loss: 0.4461 - val_acc: 0.8310\n",
      "Epoch 34/50\n",
      "250/250 [==============================] - 625s 2s/step - loss: 0.1633 - acc: 0.9339 - val_loss: 0.3872 - val_acc: 0.8460\n",
      "Epoch 35/50\n",
      "250/250 [==============================] - 622s 2s/step - loss: 0.1453 - acc: 0.9450 - val_loss: 0.3900 - val_acc: 0.8575\n",
      "Epoch 36/50\n",
      "250/250 [==============================] - 621s 2s/step - loss: 0.1435 - acc: 0.9430 - val_loss: 0.4047 - val_acc: 0.8270\n",
      "Epoch 37/50\n",
      "250/250 [==============================] - 624s 2s/step - loss: 0.1472 - acc: 0.9416 - val_loss: 0.3332 - val_acc: 0.8660\n",
      "Epoch 38/50\n",
      "250/250 [==============================] - 623s 2s/step - loss: 0.1310 - acc: 0.9507 - val_loss: 0.3590 - val_acc: 0.8530\n",
      "Epoch 39/50\n",
      "250/250 [==============================] - 623s 2s/step - loss: 0.1206 - acc: 0.9533 - val_loss: 0.3824 - val_acc: 0.8535\n",
      "Epoch 40/50\n",
      "250/250 [==============================] - 623s 2s/step - loss: 0.1244 - acc: 0.9515 - val_loss: 0.3481 - val_acc: 0.8625\n",
      "Epoch 41/50\n",
      "250/250 [==============================] - 624s 2s/step - loss: 0.1228 - acc: 0.9522 - val_loss: 0.3353 - val_acc: 0.8720\n",
      "Epoch 42/50\n",
      "250/250 [==============================] - 621s 2s/step - loss: 0.1179 - acc: 0.9547 - val_loss: 0.4294 - val_acc: 0.8530\n",
      "Epoch 43/50\n",
      "250/250 [==============================] - 622s 2s/step - loss: 0.1107 - acc: 0.9570 - val_loss: 0.4019 - val_acc: 0.8495\n",
      "Epoch 44/50\n",
      "250/250 [==============================] - 623s 2s/step - loss: 0.1108 - acc: 0.9594 - val_loss: 0.4039 - val_acc: 0.8530\n",
      "Epoch 45/50\n",
      "250/250 [==============================] - 631s 3s/step - loss: 0.1012 - acc: 0.9614 - val_loss: 0.3566 - val_acc: 0.8630\n",
      "Epoch 46/50\n",
      "250/250 [==============================] - 637s 3s/step - loss: 0.1051 - acc: 0.9625 - val_loss: 0.3518 - val_acc: 0.8735\n",
      "Epoch 47/50\n",
      "250/250 [==============================] - 618s 2s/step - loss: 0.1027 - acc: 0.9620 - val_loss: 0.5643 - val_acc: 0.8145\n",
      "Epoch 48/50\n",
      "250/250 [==============================] - 633s 3s/step - loss: 0.0948 - acc: 0.9644 - val_loss: 0.3849 - val_acc: 0.8625\n",
      "Epoch 49/50\n",
      "250/250 [==============================] - 621s 2s/step - loss: 0.1047 - acc: 0.9603 - val_loss: 0.5034 - val_acc: 0.8275\n",
      "Epoch 50/50\n",
      "250/250 [==============================] - 620s 2s/step - loss: 0.0987 - acc: 0.9632 - val_loss: 0.4487 - val_acc: 0.8625\n"
     ]
    }
   ],
   "source": [
    "# Importing the Keras libraries and packages\n",
    "from keras.models import Sequential\n",
    "from keras.layers import Conv2D\n",
    "from keras.layers import BatchNormalization\n",
    "from keras.layers import MaxPooling2D\n",
    "from keras.layers import Flatten\n",
    "from keras.layers import Dense\n",
    "\n",
    "input_size = (64,64)\n",
    "def build_classifier():\n",
    "    classifier = Sequential() \n",
    "    classifier.add(Conv2D(128,(3,3), input_shape=(*input_size,3), activation = 'relu'))\n",
    "    classifier.add(BatchNormalization())\n",
    "    classifier.add(MaxPooling2D((2,2)))\n",
    "    classifier.add(Conv2D(128,(3,3), activation = 'relu'))\n",
    "    classifier.add(BatchNormalization())\n",
    "    classifier.add(MaxPooling2D((2,2)))\n",
    "    classifier.add(Conv2D(128, (3,3), activation = 'relu'))\n",
    "    classifier.add(BatchNormalization())\n",
    "    classifier.add(MaxPooling2D((2,2)))\n",
    "    classifier.add(Conv2D(128, (3,3), activation = 'relu'))\n",
    "    classifier.add(BatchNormalization())\n",
    "    classifier.add(MaxPooling2D((2,2)))\n",
    "    classifier.add(Flatten())\n",
    "    classifier.add(Dense(activation = 'relu', units = 128))\n",
    "    classifier.add(BatchNormalization())\n",
    "    classifier.add(Dense(activation = 'relu', units = 128))\n",
    "    classifier.add(BatchNormalization())\n",
    "    classifier.add(Dense(activation = 'relu', units = 128))\n",
    "    classifier.add(BatchNormalization())\n",
    "    classifier.add(Dense(activation = 'relu', units = 128))\n",
    "    classifier.add(BatchNormalization())\n",
    "    classifier.add(Dense(activation = 'relu', units = 128))\n",
    "    classifier.add(BatchNormalization())\n",
    "    classifier.add(Dense(activation = 'sigmoid', units = 1))\n",
    "    classifier.compile(optimizer='adam', loss='binary_crossentropy', metrics=['accuracy'])\n",
    "    return classifier\n",
    "\n",
    "# Part 2 - Fitting the CNN to the images\n",
    "from keras.preprocessing.image import ImageDataGenerator\n",
    "train_datagen = ImageDataGenerator(rescale = 1./255,\n",
    "                                   shear_range = 0.2,\n",
    "                                   zoom_range = 0.2,\n",
    "                                   horizontal_flip = True)\n",
    "\n",
    "test_datagen = ImageDataGenerator(rescale = 1./255)\n",
    "\n",
    "training_set = train_datagen.flow_from_directory('dataset/training_set',\n",
    "                                                 target_size = (input_size),\n",
    "                                                 batch_size = 32,\n",
    "                                                 class_mode = 'binary')\n",
    "\n",
    "test_set = test_datagen.flow_from_directory('dataset/test_set',\n",
    "                                            target_size = (input_size),\n",
    "                                            batch_size = 32,\n",
    "                                            class_mode = 'binary')\n",
    "\n",
    "classifier = build_classifier()\n",
    "batch_size = 32\n",
    "classifier_history = classifier.fit_generator(training_set,\n",
    "                         steps_per_epoch = 8000/batch_size,\n",
    "                         epochs = 50,\n",
    "                         validation_data = test_set,\n",
    "                         validation_steps = 2000/batch_size)"
   ]
  },
  {
   "cell_type": "code",
   "execution_count": 2,
   "metadata": {},
   "outputs": [
    {
     "data": {
      "image/png": "[encoded data removed]",
      "text/plain": [
       "<Figure size 432x288 with 1 Axes>"
      ]
     },
     "metadata": {
      "needs_background": "light"
     },
     "output_type": "display_data"
    },
    {
     "data": {
      "image/png": "[encoded data removed]",
      "text/plain": [
       "<Figure size 432x288 with 1 Axes>"
      ]
     },
     "metadata": {
      "needs_background": "light"
     },
     "output_type": "display_data"
    },
    {
     "name": "stdout",
     "output_type": "stream",
     "text": [
      "The model class indices are: {'cats': 0, 'dogs': 1}\n"
     ]
    }
   ],
   "source": [
    "import matplotlib.pyplot as plt\n",
    "%matplotlib inline \n",
    "plt.plot(classifier_history.history['acc'])\n",
    "plt.plot(classifier_history.history['val_acc'])\n",
    "plt.title('model accuracy')\n",
    "plt.ylabel('accuracy')\n",
    "plt.xlabel('epoch')\n",
    "plt.legend(['train', 'test'], loc='upper left')\n",
    "plt.show()\n",
    " \n",
    "plt.plot(classifier_history.history['loss'])\n",
    "plt.plot(classifier_history.history['val_loss'])\n",
    "plt.title('loss accuracy')\n",
    "plt.ylabel('loss')\n",
    "plt.xlabel('epoch')\n",
    "plt.legend(['train', 'test'], loc='upper left')\n",
    "plt.show()\n",
    "print(\"The model class indices are:\", training_set.class_indices)"
   ]
  },
  {
   "cell_type": "code",
   "execution_count": 3,
   "metadata": {},
   "outputs": [
    {
     "data": {
      "text/plain": [
       "'dog'"
      ]
     },
     "execution_count": 3,
     "metadata": {},
     "output_type": "execute_result"
    }
   ],
   "source": [
    "# Part 3 - Making new predictions\n",
    "import numpy as np\n",
    "from keras.preprocessing import image\n",
    "test_image = image.load_img('dataset/single_prediction/cat_or_dog_1.jpg', target_size = (64, 64))\n",
    "test_image = image.img_to_array(test_image)\n",
    "test_image = np.expand_dims(test_image, axis = 0)\n",
    "result = classifier.predict(test_image)\n",
    "training_set.class_indices\n",
    "if result[0][0] == 1:\n",
    "    prediction = 'dog'\n",
    "else:\n",
    "    prediction = 'cat'\n",
    "prediction"
   ]
  },
  {
   "cell_type": "code",
   "execution_count": 4,
   "metadata": {},
   "outputs": [
    {
     "data": {
      "text/plain": [
       "'cat'"
      ]
     },
     "execution_count": 4,
     "metadata": {},
     "output_type": "execute_result"
    }
   ],
   "source": [
    "# Part 3 - Making new predictions\n",
    "import numpy as np\n",
    "from keras.preprocessing import image\n",
    "test_image = image.load_img('dataset/single_prediction/cat_or_dog_2.jpg', target_size = (64, 64))\n",
    "test_image = image.img_to_array(test_image)\n",
    "test_image = np.expand_dims(test_image, axis = 0)\n",
    "result = classifier.predict(test_image)\n",
    "training_set.class_indices\n",
    "if result[0][0] == 1:\n",
    "    prediction = 'dog'\n",
    "else:\n",
    "    prediction = 'cat'\n",
    "prediction"
   ]
  },
  {
   "cell_type": "code",
   "execution_count": 5,
   "metadata": {},
   "outputs": [
    {
     "data": {
      "text/plain": [
       "[0.577625,\n",
       " 0.645625,\n",
       " 0.6865,\n",
       " 0.711375,\n",
       " 0.73975,\n",
       " 0.766,\n",
       " 0.778125,\n",
       " 0.79875,\n",
       " 0.80075,\n",
       " 0.81325,\n",
       " 0.829375,\n",
       " 0.842375,\n",
       " 0.84625,\n",
       " 0.851375,\n",
       " 0.864625,\n",
       " 0.869125,\n",
       " 0.877625,\n",
       " 0.879,\n",
       " 0.8845,\n",
       " 0.8895,\n",
       " 0.896875,\n",
       " 0.896125,\n",
       " 0.89775,\n",
       " 0.905875,\n",
       " 0.90975,\n",
       " 0.9135,\n",
       " 0.91975,\n",
       " 0.920375,\n",
       " 0.922,\n",
       " 0.92525,\n",
       " 0.931375,\n",
       " 0.934375,\n",
       " 0.936125,\n",
       " 0.933875,\n",
       " 0.945,\n",
       " 0.943,\n",
       " 0.941625,\n",
       " 0.95075,\n",
       " 0.95325,\n",
       " 0.9515,\n",
       " 0.95225,\n",
       " 0.95475,\n",
       " 0.957,\n",
       " 0.959375,\n",
       " 0.961375,\n",
       " 0.9625,\n",
       " 0.962,\n",
       " 0.964375,\n",
       " 0.96025,\n",
       " 0.96325]"
      ]
     },
     "execution_count": 5,
     "metadata": {},
     "output_type": "execute_result"
    }
   ],
   "source": [
    "classifier_history.history['acc']"
   ]
  },
  {
   "cell_type": "code",
   "execution_count": 6,
   "metadata": {},
   "outputs": [
    {
     "data": {
      "text/plain": [
       "[0.5505,\n",
       " 0.611,\n",
       " 0.556,\n",
       " 0.6115,\n",
       " 0.7235,\n",
       " 0.6295,\n",
       " 0.751,\n",
       " 0.6695,\n",
       " 0.805,\n",
       " 0.8,\n",
       " 0.7935,\n",
       " 0.8145,\n",
       " 0.7385,\n",
       " 0.7105,\n",
       " 0.7565,\n",
       " 0.805,\n",
       " 0.8465,\n",
       " 0.834,\n",
       " 0.8595,\n",
       " 0.815,\n",
       " 0.8285,\n",
       " 0.846,\n",
       " 0.8455,\n",
       " 0.863,\n",
       " 0.8155,\n",
       " 0.83,\n",
       " 0.874,\n",
       " 0.8435,\n",
       " 0.749,\n",
       " 0.8455,\n",
       " 0.7765,\n",
       " 0.755,\n",
       " 0.831,\n",
       " 0.846,\n",
       " 0.8575,\n",
       " 0.827,\n",
       " 0.866,\n",
       " 0.853,\n",
       " 0.8535,\n",
       " 0.8625,\n",
       " 0.872,\n",
       " 0.853,\n",
       " 0.8495,\n",
       " 0.853,\n",
       " 0.863,\n",
       " 0.8735,\n",
       " 0.8145,\n",
       " 0.8625,\n",
       " 0.8275,\n",
       " 0.8625]"
      ]
     },
     "execution_count": 6,
     "metadata": {},
     "output_type": "execute_result"
    }
   ],
   "source": [
    "classifier_history.history['val_acc']"
   ]
  }
 ],
 "metadata": {
  "kernelspec": {
   "display_name": "Python 3",
   "language": "python",
   "name": "python3"
  },
  "language_info": {
   "codemirror_mode": {
    "name": "ipython",
    "version": 3
   },
   "file_extension": ".py",
   "mimetype": "text/x-python",
   "name": "python",
   "nbconvert_exporter": "python",
   "pygments_lexer": "ipython3",
   "version": "3.7.3"
  }
 },
 "nbformat": 4,
 "nbformat_minor": 2
}
