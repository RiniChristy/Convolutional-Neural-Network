{
 "cells": [
  {
   "cell_type": "markdown",
   "metadata": {},
   "source": [
    "# Image Recognition using Convolutional Neural Network"
   ]
  },
  {
   "cell_type": "markdown",
   "metadata": {},
   "source": [
    "# Table of contents\n",
    "1. [Introduction](#introduction)\n",
    "2. [Methodology: Data Collection, Data Preprocessing, Building Classifier Models, Evaluation, Prediction & Saving Models](#part2)\n",
    "\n",
    "    2.1. [Part 1: Data Preprocessing](#subparagraph1)\n",
    "    \n",
    "    2.2. [Part 2: Building Classifier Models](#subparagraph2)\n",
    "    \n",
    "3. [Conclusion](#conclusion)\n",
    "4. [References](#references)"
   ]
  },
  {
   "cell_type": "markdown",
   "metadata": {},
   "source": [
    "## **1. Introduction** <a name=\"introduction\"></a>\n",
    "Convolutional neural networks (abbreviated as “CNN”) have applications in computer vision like recognizing patterns, actions, emotions, faces and pictures or videos or even recognizing tumors in some brain images. CNN does this by categorizing images according to the objects included in them. Just like our brain often times mistakenly categorizes objects at first sight, convolutional neural networks are prone to the same indecision when presented with an object or an image from an angle that can easily place it under more than one category. \n",
    "My goal in this article is to address precisely the application of convolutional neural network in fashion product recognition making use of different classifier models generated from a Convolutional Neural Network using Keras with TensorFlow backend based on a set of training data. The models are then tested & evaluated on a test set to compare the accuracy & reduction in error rate achieved. Eventually, the best model is exploited to recognize numeric characters present in images not yet seen by the model. I will use the Modified National Institute of Standards and Technology (MNIST) database for fashion products, which is similar to already well known MNIST dataset of handwritten digits. "
   ]
  },
  {
   "cell_type": "markdown",
   "metadata": {},
   "source": [
    "## **2. Methodology: Data Collection, Data Preprocessing, Building Classifier Models, Evaluation, Prediction & Saving Models** <a name=\"part2\"></a>\n",
    "The evaluation is done by building 3 Neural networks starting from simple neural network to very basic Convolutional Neural Network and then to a larger CNN with two convolutional layer and pooling layer. After evaluation, the model is used to predict images previously not trained or tested by the model. The model is then saved to a single HDF5 file allowing running the model exactly where it was left off. I follow the codes obtained from pages like Keras documentation, , but using it in a way I comprehended the working of CNN.\n",
    "\n",
    "### **2.1 Part 1: Data Preprocessing** <a name=\"subparagraph1\"></a>\n",
    "#### Loading the MNIST dataset from Keras \n",
    "Keras & Tensorflow can import and download the Fashion-MNIST dataset directly from their API. The digits are already size-normalized and centered in a fixed-size image to facilitate the user to spend minimal efforts on preprocessing and formatting.\n",
    "\n",
    "#### Visualization of Data\n",
    "Colored images are represented in three dimensional information (RGB), but Black and white images need only two dimensional information. Hence for black and white images each pixel needs only a single layer. For images, the information about colors is given in terms of pixels and 1 byte is used for each pixel. One byte contains 8 bits, each of which can take the value of 1 or 0. So the maximum number of combinations possible is 256 (2^8). Hence two-dimensional black & white images will be represented in the scale 0 to 255 where 0 is pitch black and 255 is pure white and in between are various shades of grey.\n",
    "Fashion-MNIST database contains a new dataset comprising of 28x28 grayscale images of 70,000 fashion products from 10 categories, with 7,000 images per category. The training set has 60,000 images and the test set has 10,000 images. Fashion-MNIST shares the same image size, data format and the structure of training and testing splits. These products can be visualized with the help of matplotlib."
   ]
  },
  {
   "cell_type": "code",
   "execution_count": 2,
   "metadata": {},
   "outputs": [
    {
     "name": "stdout",
     "output_type": "stream",
     "text": [
      "Downloading data from http://fashion-mnist.s3-website.eu-central-1.amazonaws.com/train-labels-idx1-ubyte.gz\n",
      "32768/29515 [=================================] - 0s 1us/step\n",
      "Downloading data from http://fashion-mnist.s3-website.eu-central-1.amazonaws.com/train-images-idx3-ubyte.gz\n",
      "26427392/26421880 [==============================] - 2s 0us/step\n",
      "Downloading data from http://fashion-mnist.s3-website.eu-central-1.amazonaws.com/t10k-labels-idx1-ubyte.gz\n",
      "8192/5148 [===============================================] - 0s 0us/step\n",
      "Downloading data from http://fashion-mnist.s3-website.eu-central-1.amazonaws.com/t10k-images-idx3-ubyte.gz\n",
      "4423680/4422102 [==============================] - 0s 0us/step\n"
     ]
    },
    {
     "data": {
      "image/png": "[encoded data removed]",
      "text/plain": [
       "<Figure size 432x288 with 9 Axes>"
      ]
     },
     "metadata": {
      "needs_background": "light"
     },
     "output_type": "display_data"
    }
   ],
   "source": [
    "from keras.datasets import fashion_mnist\n",
    "import matplotlib.pyplot as plt\n",
    "%matplotlib inline \n",
    "\n",
    "# load the fashion_MNIST dataset \n",
    "(X_train, y_train), (X_test, y_test) = fashion_mnist.load_data()\n",
    "\n",
    "#To visualize first six mnist instances of training dataset\n",
    "# plot 6 images as gray scale\n",
    "plt.subplot(331)\n",
    "plt.imshow(X_train[10], cmap=plt.get_cmap('gray'))\n",
    "plt.subplot(332)\n",
    "plt.imshow(X_train[100], cmap=plt.get_cmap('gray'))\n",
    "plt.subplot(333)\n",
    "plt.imshow(X_train[1000], cmap=plt.get_cmap('gray'))\n",
    "plt.subplot(334)\n",
    "plt.imshow(X_train[10000], cmap=plt.get_cmap('gray'))\n",
    "plt.subplot(335)\n",
    "plt.imshow(X_train[20000], cmap=plt.get_cmap('gray'))\n",
    "plt.subplot(336)\n",
    "plt.imshow(X_train[30000], cmap=plt.get_cmap('gray'))\n",
    "plt.subplot(337)\n",
    "plt.imshow(X_train[40000], cmap=plt.get_cmap('gray'))\n",
    "plt.subplot(338)\n",
    "plt.imshow(X_train[50000], cmap=plt.get_cmap('gray'))\n",
    "plt.subplot(339)\n",
    "plt.imshow(X_train[59999], cmap=plt.get_cmap('gray'))\n",
    "# show the plot\n",
    "plt.show()"
   ]
  },
  {
   "cell_type": "markdown",
   "metadata": {},
   "source": [
    "## **Part 2: Building Classifier Models** <a name=\"subparagraph2\"></a>\n",
    "#### Baseline Classifier Model\n",
    "To start with, first the analysis is done using a very simple neural network classifier model with a single hidden layer as done in Artificial Neural Network. The model is defined in a baseline classifier function with parameters like 'softmax' activation, 'categorical_crossentropy' (Logarithmic loss) loss function, & 'adam' gradient descent optimizer. The model is fit over 12 epochs with a batch size of 200 images. The model is then evaluated using test set accuracy and error rate. "
   ]
  },
  {
   "cell_type": "code",
   "execution_count": 3,
   "metadata": {},
   "outputs": [
    {
     "name": "stdout",
     "output_type": "stream",
     "text": [
      "WARNING:tensorflow:From C:\\Users\\Christy\\Anaconda3\\lib\\site-packages\\tensorflow\\python\\framework\\op_def_library.py:263: colocate_with (from tensorflow.python.framework.ops) is deprecated and will be removed in a future version.\n",
      "Instructions for updating:\n",
      "Colocations handled automatically by placer.\n",
      "WARNING:tensorflow:From C:\\Users\\Christy\\Anaconda3\\lib\\site-packages\\tensorflow\\python\\ops\\math_ops.py:3066: to_int32 (from tensorflow.python.ops.math_ops) is deprecated and will be removed in a future version.\n",
      "Instructions for updating:\n",
      "Use tf.cast instead.\n",
      "Train on 60000 samples, validate on 10000 samples\n",
      "Epoch 1/12\n",
      "60000/60000 [==============================] - 7s 117us/step - loss: 0.5036 - acc: 0.8254 - val_loss: 0.4260 - val_acc: 0.8508\n",
      "Epoch 2/12\n",
      "60000/60000 [==============================] - 6s 97us/step - loss: 0.3751 - acc: 0.8664 - val_loss: 0.3902 - val_acc: 0.8625\n",
      "Epoch 3/12\n",
      "60000/60000 [==============================] - 6s 95us/step - loss: 0.3351 - acc: 0.8788 - val_loss: 0.3556 - val_acc: 0.8725\n",
      "Epoch 4/12\n",
      "60000/60000 [==============================] - 6s 98us/step - loss: 0.3055 - acc: 0.8889 - val_loss: 0.3539 - val_acc: 0.8691\n",
      "Epoch 5/12\n",
      "60000/60000 [==============================] - 6s 100us/step - loss: 0.2883 - acc: 0.8951 - val_loss: 0.3550 - val_acc: 0.8717\n",
      "Epoch 6/12\n",
      "60000/60000 [==============================] - 6s 100us/step - loss: 0.2711 - acc: 0.9008 - val_loss: 0.3323 - val_acc: 0.8784\n",
      "Epoch 7/12\n",
      "60000/60000 [==============================] - 6s 96us/step - loss: 0.2548 - acc: 0.9052 - val_loss: 0.3165 - val_acc: 0.8860\n",
      "Epoch 8/12\n",
      "60000/60000 [==============================] - 6s 95us/step - loss: 0.2415 - acc: 0.9110 - val_loss: 0.3119 - val_acc: 0.8902\n",
      "Epoch 9/12\n",
      "60000/60000 [==============================] - 6s 98us/step - loss: 0.2341 - acc: 0.9137 - val_loss: 0.3305 - val_acc: 0.8811- loss: 0.234\n",
      "Epoch 10/12\n",
      "60000/60000 [==============================] - 6s 92us/step - loss: 0.2256 - acc: 0.9169 - val_loss: 0.3177 - val_acc: 0.8888\n",
      "Epoch 11/12\n",
      "60000/60000 [==============================] - 6s 97us/step - loss: 0.2136 - acc: 0.9219 - val_loss: 0.3135 - val_acc: 0.8883\n",
      "Epoch 12/12\n",
      "60000/60000 [==============================] - 6s 96us/step - loss: 0.2055 - acc: 0.9228 - val_loss: 0.3184 - val_acc: 0.8911\n",
      "acc: 89.11%\n",
      "Baseline NN Error: 10.89%\n"
     ]
    }
   ],
   "source": [
    "import numpy\n",
    "from keras.datasets import fashion_mnist\n",
    "from keras.models import Sequential\n",
    "from keras.layers import Dense\n",
    "from keras.layers import Dropout\n",
    "from keras.utils import np_utils\n",
    "\n",
    "# load data\n",
    "(X_train, y_train), (X_test, y_test) = fashion_mnist.load_data()\n",
    "\n",
    "# flatten 28*28 images to a 784 vector for each image\n",
    "num_pixels = X_train.shape[1] * X_train.shape[2]\n",
    "\n",
    "# Reshaping the array to 2-dims so that it can work with the Keras simple Neural network\n",
    "X_train = X_train.reshape(X_train.shape[0], num_pixels).astype('float32')\n",
    "X_test = X_test.reshape(X_test.shape[0], num_pixels).astype('float32')\n",
    "\n",
    "# normalize inputs from 0-255 to 0-1\n",
    "X_train = X_train / 255\n",
    "X_test = X_test / 255\n",
    "\n",
    "# one hot encode outputs\n",
    "y_train = np_utils.to_categorical(y_train)\n",
    "y_test = np_utils.to_categorical(y_test)\n",
    "num_classes = y_test.shape[1]\n",
    "\n",
    "# define baseline classifier\n",
    "def baseline_NNclassifier():\n",
    "# create model\n",
    "    classifier = Sequential()\n",
    "    classifier.add(Dense(num_pixels, input_dim=num_pixels, kernel_initializer='normal', activation='relu'))\n",
    "    classifier.add(Dense(num_classes, kernel_initializer='normal', activation='softmax'))\n",
    "# Compile classifier model\n",
    "    classifier.compile(loss='categorical_crossentropy', optimizer='adam', metrics=['accuracy'])\n",
    "    return classifier\n",
    "# build the classifier model\n",
    "classifier = baseline_NNclassifier()\n",
    "# Fit the model\n",
    "classifier_history = classifier.fit(X_train, y_train, validation_data=(X_test, y_test), epochs=12, batch_size=200)\n",
    "# Final evaluation of the classifier model\n",
    "scores = classifier.evaluate(X_test, y_test, verbose=0)\n",
    "print(\"acc: %.2f%%\" % (scores[1]*100))\n",
    "print(\"Baseline NN Error: %.2f%%\" % (100-scores[1]*100))"
   ]
  },
  {
   "cell_type": "markdown",
   "metadata": {},
   "source": [
    "This simple neural network classifier model achieved a remarkable accuracy of 89.11% with an error rate of 10.89%.\n",
    "\n",
    "Convolutional Neural Network can be employed to improve the accuracy further. \n",
    "#### CNN Architecture\n",
    "The model is initialized by creating an object of the sequential class. CNN building process takes four steps. Step one, Convolution; step two, Max Pooling, step three, Flattening and step four, Full Connection. Layers can be added in between each of these steps to tune the model to achieve the best accuracy possible. \n",
    "\n",
    "To know the shape of the dataset to channel it to the convolutional neural network the “shape” attribute of numpy array is used. "
   ]
  },
  {
   "cell_type": "code",
   "execution_count": 4,
   "metadata": {},
   "outputs": [
    {
     "data": {
      "text/plain": [
       "(60000, 28, 28)"
      ]
     },
     "execution_count": 4,
     "metadata": {},
     "output_type": "execute_result"
    }
   ],
   "source": [
    "import numpy\n",
    "from keras.datasets import fashion_mnist\n",
    "from keras.models import Sequential\n",
    "from keras.layers import Dense\n",
    "from keras.layers import Dropout\n",
    "from keras.layers import Flatten\n",
    "from keras.layers.convolutional import Conv2D\n",
    "from keras.layers.convolutional import MaxPooling2D\n",
    "from keras.utils import np_utils\n",
    "from keras import backend as K\n",
    "K.set_image_dim_ordering('th')\n",
    "\n",
    "# load data\n",
    "(X_train, y_train), (X_test, y_test) = fashion_mnist.load_data()\n",
    "\n",
    "X_train.shape"
   ]
  },
  {
   "cell_type": "markdown",
   "metadata": {},
   "source": [
    "60000 represents the number of images in the train dataset and (28, 28) represents the size of the image: 28 x 28 pixels. Images with 28 by 28 pixels with only greyscale, will end up having 784 (28 x 28 x 1) neurons in a layer which seems manageable. \n",
    "\n",
    "#### Reshaping the input X array\n",
    "As seen above, the input x array is 3-dimensional. It needs to be converted to 4-dimensional numpy arrays to be able to use the dataset in Keras CNN. This is achieved easily by using the reshape() function on the NumPy array. \n",
    "\n",
    "#### Normalizing the Images\n",
    "Dividing by the maximum value of 255, all pixel values will be rescaled between zero and one.\n",
    "\n",
    "#### One hot encoding of categorical output values\n",
    "This is a multi-class classification problem where the output variable is an integer ranging from 0 to 9. To transform the vector of class integers into a binary matrix, one hot encoding is done on the categorical values using the built-in np_utils.to_categorical()function in Keras."
   ]
  },
  {
   "cell_type": "code",
   "execution_count": 7,
   "metadata": {},
   "outputs": [
    {
     "name": "stdout",
     "output_type": "stream",
     "text": [
      "X_train shape: (60000, 1, 28, 28)\n",
      "Number of images in X_train 60000\n",
      "Number of images in X_test 10000\n"
     ]
    }
   ],
   "source": [
    "batch_size = 200\n",
    "num_classes = 10\n",
    "epochs = 12\n",
    "\n",
    "# input image dimensions\n",
    "img_rows, img_cols = 28, 28\n",
    "\n",
    "# the data, split between train and test sets\n",
    "(x_train, y_train), (x_test, y_test) = fashion_mnist.load_data()\n",
    "\n",
    "# Reshaping the array to 3-dims so that it can work with the Keras CNN\n",
    "X_train = X_train.reshape(X_train.shape[0], 1, img_rows, img_cols)\n",
    "X_test = X_test.reshape(X_test.shape[0], 1, img_rows, img_cols)\n",
    "\n",
    "# Making sure that the values are float so as to get decimal points after division\n",
    "X_train = X_train.astype('float32')\n",
    "X_test = X_test.astype('float32')\n",
    "\n",
    "# Normalizing the pixel values by dividing it by the max value of 255.\n",
    "X_train /= 255\n",
    "X_test /= 255\n",
    "\n",
    "# one hot encode outputs\n",
    "y_train = np_utils.to_categorical(y_train)\n",
    "y_test = np_utils.to_categorical(y_test)\n",
    "num_classes = y_test.shape[1]\n",
    "\n",
    "print('X_train shape:', X_train.shape)\n",
    "print('Number of images in X_train', X_train.shape[0])\n",
    "print('Number of images in X_test', X_test.shape[0])"
   ]
  },
  {
   "cell_type": "markdown",
   "metadata": {},
   "source": [
    "#### Define Large CNN classifier model Architecture\n",
    "**_First Layer: The Input Layer_**\n",
    "\n",
    "The input layer is 60000x1x28x28 reshaped, normalized Fashion-MNIST grayscale image. \n",
    "\n",
    "\n",
    "**_Second Layer: The first hidden layer - Convolution_**\n",
    "\n",
    "The first hidden layer of the network is going to perform some convolutions scanning over the input image using 32 distinct filters (also known as feature detectors or neurons or convolution kernel). The feature detectors will be 5x5 dimensions in size with 1x1 stride (1 pixel shift at each step). Convolving a 5x5 filter with a 28x28 pixel image yields a 32x28x28 filtered image, called feature map. The feature map contains some numbers and the highest numbers of the feature map is where the feature detector could detect a specific feature in the input image. This operation here between the input image and the feature detector that results in the future map, is the convolution operation and is done using Convolution2D function. The first argument is nb_filter, the number of filters. This is exactly the number of feature detectors that I’m going to apply on the input image to get this same number of feature maps because there will be one feature map created for each filter used. The second argument is the dimensions of the feature detector used. The third argument is the number of feature detectors; working on a CPU, I am limiting the number to 32. The fourth argument is input_shape, the shape of the input image on which I am going to apply the feature detectors through the convolution operation and this converts all our images into one fixed size of the image  with one same single format of 2D arrays with one channel for a black and white image. Finally, the well performed “rectifier linear unit (relu)” is taken as the activation function. \n",
    "These 32 convolutions with 5x5 feature detectors will generate 32 separate output maps, with a 32x28x28 matrix as the output of layer 2. \n",
    "\n",
    "\n",
    "**_Third Layer: Second hidden layer- Max pooling_**\n",
    "\n",
    "Pooling step just consists of reducing the size of convoluted feature maps. This is done by sliding a 2x2 dimension square table over the feature map with a stride of two to take the maximum of the four cells.  The size of the original feature map is divided by two when max pooling is applied. This has the effect of subsampling the output maps by a factor of 2 in both dimensions, so we get a 32x14x14 matrix pooling layer. This is to reduce the number of nodes for the next step, that is the Flattening step and then the Full Connection step because in these next steps basically the outcome is all the cells of feature maps, flattened in one huge one-dimensional vector. So, if the size of these feature maps is not reduced, the outcome will be a too large vector and then too many nodes in the fully connected layers and therefore the model will become highly compute-intensive. To avoid this max pooling is applied to reduce the size of feature maps and therefore to reduce the number of nodes in the future fully connected layers reducing the complexity and the time execution but without the losing the performance of the model. \n",
    "The max pooling is done using MaxPooling2D function with a pool size of two-by-two dimensions. \n",
    "\n",
    "**_Fourth Layer: Third hidden layer – Second convolution layer_**\n",
    "\n",
    "The fourth layer is another convolution layer. Here I’ll apply 15 distinct filters with a kernel size of 5x5, to contain 15 neurons. \n",
    "When a convolution is performed on the original input image, the image only had a depth of 1 (because it’s grayscale). However, the output of third layer with dimension has a depth of 32. A single neuron in the fourth layer is going to be connected to all 32 pooled maps from the third layer. One way to think about how this is controlled is to say that the fourth layer filters have a size of 15x5x5. That is, each filter in the fourth layer has 375 unique weight values in it. In the code, however, convolutions are only done with two-dimensional filters. Instead of having 15 32x5x5 filters, we have 480 1x5x5 filters. For each of the 15 fourth layer filters, there are 32 separate 1x5x5 kernels. To apply a single fourth layer filter, 32 convolutions (one for each output map in the third layer) are performed, and then sum up all of the resulting maps to make a single 1x10x10 output map for that filter. This is done for each of the 15 filters to create the 15x10x10 output of the fourth layer.\n",
    "\n",
    "\n",
    "**_Fifth Layer: Fourth hidden layer – Second Max pooling_**\n",
    "\n",
    "Finally, one last pooling operation that’s identical to the one in the third layer is executed, subsampling by a factor of 2 in each dimension to generate the 15x5x5 output of the fifth layer.\n",
    "\n",
    "\n",
    "**_Sixth Layer: Dropout_**\n",
    "\n",
    "To tackle overfitting, dropout regularization is applied to the neurons so that 20% of them randomly become disabled at each iteration. \n",
    "\n",
    "\n",
    "**_Seventh Layer: Flattening_**\n",
    "\n",
    "The resulting output maps of Dropout layer are unwound into our final feature vector containing 375 values (15x5x5 = 375). This layer consists of taking all the pooled feature maps and put them into one single huge one dimensional vector by applying the Flatten step. \n",
    "\n",
    "\n",
    "**_Eighth Layer: The full connection_**\n",
    "\n",
    "Two layers are chosen with the number of nodes in the hidden layer is taken as 128 for the first and 50 for the second; both are configured with the ‘rectifier linear (relu)’ activation function.\n",
    "\n",
    "\n",
    "**_Ninth Layer: The output layer_**\n",
    "\n",
    "The output layer with Softmax activation function for multiclass classification problem and 10 output units corresponding to 10 classes from 0 to 9 digits. \n",
    "\n",
    "\n",
    "**_Compilation of the model_**\n",
    "\n",
    "Before training a model, the learning process needs to be configured, which is done via the compile method using logarithmic loss 'categorical_crossentropy' which is specific for multiclass classification and the ‘adam’ gradient descent optimizer. Like any classification problem, ‘accuracy’ is chosen as the metric. \n",
    "\n",
    "\n",
    "**_Fit the model_**\n",
    "\n",
    "The model is trained using fit method, iterating on the data in batches of 200 samples with 12 epochs.\n",
    "The classifier model is then evaluated using test set accuracy and error rate. "
   ]
  },
  {
   "cell_type": "code",
   "execution_count": 9,
   "metadata": {},
   "outputs": [
    {
     "name": "stdout",
     "output_type": "stream",
     "text": [
      "Train on 60000 samples, validate on 10000 samples\n",
      "Epoch 1/12\n",
      "60000/60000 [==============================] - 183s 3ms/step - loss: 0.6559 - acc: 0.7613 - val_loss: 0.4439 - val_acc: 0.8340\n",
      "Epoch 2/12\n",
      "60000/60000 [==============================] - 181s 3ms/step - loss: 0.4083 - acc: 0.8513 - val_loss: 0.3720 - val_acc: 0.8631\n",
      "Epoch 3/12\n",
      "60000/60000 [==============================] - 154s 3ms/step - loss: 0.3628 - acc: 0.8696 - val_loss: 0.3301 - val_acc: 0.8811\n",
      "Epoch 4/12\n",
      "60000/60000 [==============================] - 150s 3ms/step - loss: 0.3316 - acc: 0.8798 - val_loss: 0.3165 - val_acc: 0.8850\n",
      "Epoch 5/12\n",
      "60000/60000 [==============================] - 151s 3ms/step - loss: 0.3096 - acc: 0.8876 - val_loss: 0.3157 - val_acc: 0.8858\n",
      "Epoch 6/12\n",
      "60000/60000 [==============================] - 178s 3ms/step - loss: 0.2921 - acc: 0.8931 - val_loss: 0.2901 - val_acc: 0.8949\n",
      "Epoch 7/12\n",
      "60000/60000 [==============================] - 182s 3ms/step - loss: 0.2804 - acc: 0.8981 - val_loss: 0.2906 - val_acc: 0.8917\n",
      "Epoch 8/12\n",
      "60000/60000 [==============================] - 197s 3ms/step - loss: 0.2693 - acc: 0.9017 - val_loss: 0.2742 - val_acc: 0.8980\n",
      "Epoch 9/12\n",
      "60000/60000 [==============================] - 206s 3ms/step - loss: 0.2594 - acc: 0.9045 - val_loss: 0.2680 - val_acc: 0.9037\n",
      "Epoch 10/12\n",
      "60000/60000 [==============================] - 234s 4ms/step - loss: 0.2498 - acc: 0.9076 - val_loss: 0.2642 - val_acc: 0.9044\n",
      "Epoch 11/12\n",
      "60000/60000 [==============================] - 196s 3ms/step - loss: 0.2411 - acc: 0.9112 - val_loss: 0.2609 - val_acc: 0.9034\n",
      "Epoch 12/12\n",
      "60000/60000 [==============================] - 207s 3ms/step - loss: 0.2315 - acc: 0.9141 - val_loss: 0.2588 - val_acc: 0.9078\n",
      "acc: 90.78%\n",
      "Large CNN Error: 9.22%\n"
     ]
    }
   ],
   "source": [
    "import numpy\n",
    "from keras.datasets import fashion_mnist\n",
    "from keras.models import Sequential\n",
    "from keras.layers import Dense\n",
    "from keras.layers import Dropout\n",
    "from keras.layers import Flatten\n",
    "from keras.layers.convolutional import Conv2D\n",
    "from keras.layers.convolutional import MaxPooling2D\n",
    "from keras.utils import np_utils\n",
    "from keras import backend as K\n",
    "K.set_image_dim_ordering('th')\n",
    "# load data\n",
    "(X_train, y_train), (X_test, y_test) = fashion_mnist.load_data()\n",
    "\n",
    "batch_size = 200\n",
    "num_classes = 10\n",
    "epochs = 12\n",
    "\n",
    "# input image dimensions\n",
    "img_rows, img_cols = 28, 28\n",
    "input_shape = (1, img_rows, img_cols)\n",
    "\n",
    "# define the larger model\n",
    "def large_CNNclassifier():\n",
    "# create model\n",
    "    classifier = Sequential()\n",
    "    classifier.add(Conv2D(filters=32, kernel_size=(5,5), padding='same', input_shape = input_shape, activation ='relu'))\n",
    "    classifier.add(MaxPooling2D(pool_size=(2, 2)))\n",
    "    classifier.add(Conv2D(15, (3, 3), activation='relu'))\n",
    "    classifier.add(MaxPooling2D(pool_size=(2, 2)))\n",
    "    classifier.add(Dropout(0.2))\n",
    "    classifier.add(Flatten())\n",
    "    classifier.add(Dense(128, activation='relu'))\n",
    "    classifier.add(Dense(50, activation='relu'))\n",
    "    classifier.add(Dense(num_classes, activation='softmax'))\n",
    "# Compile model\n",
    "    classifier.compile(loss='categorical_crossentropy', optimizer='adam', metrics=['accuracy'])\n",
    "    return classifier\n",
    "# build the model\n",
    "largeCNNclassifier = large_CNNclassifier()\n",
    "# Fit the model\n",
    "largeCNNclassifier_history = largeCNNclassifier.fit(X_train, y_train, validation_data=(X_test, y_test), epochs=epochs, batch_size=batch_size)\n",
    "# Final evaluation of the model\n",
    "scores = largeCNNclassifier.evaluate(X_test, y_test, verbose=0)\n",
    "print(\"acc: %.2f%%\" % (scores[1]*100))\n",
    "print(\"Large CNN Error: %.2f%%\" % (100-scores[1]*100))"
   ]
  },
  {
   "cell_type": "markdown",
   "metadata": {},
   "source": [
    "Evaluation shows 90.78% accuracy on test set!. The improvement in accuracy with epochs can be visualized below:"
   ]
  },
  {
   "cell_type": "code",
   "execution_count": 10,
   "metadata": {},
   "outputs": [
    {
     "data": {
      "image/png": "[encoded data removed]",
      "text/plain": [
       "<Figure size 432x288 with 1 Axes>"
      ]
     },
     "metadata": {
      "needs_background": "light"
     },
     "output_type": "display_data"
    },
    {
     "data": {
      "image/png": "[encoded data removed]",
      "text/plain": [
       "<Figure size 432x288 with 1 Axes>"
      ]
     },
     "metadata": {
      "needs_background": "light"
     },
     "output_type": "display_data"
    }
   ],
   "source": [
    "import matplotlib.pyplot as plt\n",
    "%matplotlib inline \n",
    "plt.plot(largeCNNclassifier_history.history['acc'])\n",
    "plt.plot(largeCNNclassifier_history.history['val_acc'])\n",
    "plt.title('Large CNN model accuracy')\n",
    "plt.ylabel('accuracy')\n",
    "plt.xlabel('epoch')\n",
    "plt.legend(['train', 'test'], loc='upper left')\n",
    "plt.show()\n",
    " \n",
    "plt.plot(largeCNNclassifier_history.history['loss'])\n",
    "plt.plot(largeCNNclassifier_history.history['val_loss'])\n",
    "plt.title('Large CNN loss accuracy')\n",
    "plt.ylabel('loss')\n",
    "plt.xlabel('epoch')\n",
    "plt.legend(['train', 'test'], loc='upper left')\n",
    "plt.show()"
   ]
  },
  {
   "cell_type": "code",
   "execution_count": 11,
   "metadata": {},
   "outputs": [
    {
     "name": "stdout",
     "output_type": "stream",
     "text": [
      "_________________________________________________________________\n",
      "Layer (type)                 Output Shape              Param #   \n",
      "=================================================================\n",
      "conv2d_2 (Conv2D)            (None, 32, 28, 28)        832       \n",
      "_________________________________________________________________\n",
      "max_pooling2d_2 (MaxPooling2 (None, 32, 14, 14)        0         \n",
      "_________________________________________________________________\n",
      "conv2d_3 (Conv2D)            (None, 15, 12, 12)        4335      \n",
      "_________________________________________________________________\n",
      "max_pooling2d_3 (MaxPooling2 (None, 15, 6, 6)          0         \n",
      "_________________________________________________________________\n",
      "dropout_2 (Dropout)          (None, 15, 6, 6)          0         \n",
      "_________________________________________________________________\n",
      "flatten_2 (Flatten)          (None, 540)               0         \n",
      "_________________________________________________________________\n",
      "dense_5 (Dense)              (None, 128)               69248     \n",
      "_________________________________________________________________\n",
      "dense_6 (Dense)              (None, 50)                6450      \n",
      "_________________________________________________________________\n",
      "dense_7 (Dense)              (None, 10)                510       \n",
      "=================================================================\n",
      "Total params: 81,375\n",
      "Trainable params: 81,375\n",
      "Non-trainable params: 0\n",
      "_________________________________________________________________\n"
     ]
    }
   ],
   "source": [
    "import os\n",
    "largeCNNclassifier.summary()"
   ]
  },
  {
   "cell_type": "markdown",
   "metadata": {},
   "source": [
    "#### Larger CNN classifier model \n",
    "\n",
    "**_First Layer:_** The Input Layer\n",
    "\n",
    "**_Second Layer:_** The first hidden layer - First Convolution configured with 5x5 dimensional 32 filters \n",
    "\n",
    "**_Third Layer:_** Second hidden layer- Second Convolution configured with 5x5 dimensional 32 filters\n",
    "\n",
    "**_Fourth Layer:_** Third hidden layer – First Max pooling with 2x2 dimension\n",
    "\n",
    "**_Fifth Layer:_** Fourth hidden layer – Third Convolution configured with 3x3 dimensional 15 filters\n",
    "\n",
    "**_Sixth Layer:_** Fifth hidden layer – Fourth Convolution configured with 3x3 dimensional 15 filters\n",
    "\n",
    "**_Seventh Layer:_** Second Max pooling with 2x2 dimension\n",
    "\n",
    "**_Eighth Layer:_** Dropout\n",
    "\n",
    "**_Ninth Layer:_** Flattening\n",
    "\n",
    "**_Tenth Layer:_** The full connection Dense1\n",
    "\n",
    "**_Eleventh Layer:_** The full connection Dense 2\n",
    "\n",
    "**_Twelfth Layer:_** The output Dense 3"
   ]
  },
  {
   "cell_type": "code",
   "execution_count": 12,
   "metadata": {},
   "outputs": [
    {
     "name": "stdout",
     "output_type": "stream",
     "text": [
      "Train on 60000 samples, validate on 10000 samples\n",
      "Epoch 1/12\n",
      "60000/60000 [==============================] - 755s 13ms/step - loss: 0.5547 - acc: 0.7981 - val_loss: 0.3838 - val_acc: 0.8580\n",
      "Epoch 2/12\n",
      "60000/60000 [==============================] - 711s 12ms/step - loss: 0.3305 - acc: 0.8792 - val_loss: 0.3056 - val_acc: 0.8896\n",
      "Epoch 3/12\n",
      "60000/60000 [==============================] - 813s 14ms/step - loss: 0.2829 - acc: 0.8956 - val_loss: 0.2794 - val_acc: 0.8981\n",
      "Epoch 4/12\n",
      "60000/60000 [==============================] - 798s 13ms/step - loss: 0.2547 - acc: 0.9061 - val_loss: 0.2645 - val_acc: 0.9049\n",
      "Epoch 5/12\n",
      "60000/60000 [==============================] - 813s 14ms/step - loss: 0.2359 - acc: 0.9112 - val_loss: 0.2544 - val_acc: 0.9062\n",
      "Epoch 6/12\n",
      "60000/60000 [==============================] - 823s 14ms/step - loss: 0.2207 - acc: 0.9172 - val_loss: 0.2372 - val_acc: 0.9148\n",
      "Epoch 7/12\n",
      "60000/60000 [==============================] - 776s 13ms/step - loss: 0.2056 - acc: 0.9225 - val_loss: 0.2372 - val_acc: 0.9124\n",
      "Epoch 8/12\n",
      "60000/60000 [==============================] - 740s 12ms/step - loss: 0.1972 - acc: 0.9264 - val_loss: 0.2300 - val_acc: 0.9198\n",
      "Epoch 9/12\n",
      "60000/60000 [==============================] - 736s 12ms/step - loss: 0.1870 - acc: 0.9297 - val_loss: 0.2424 - val_acc: 0.9103\n",
      "Epoch 10/12\n",
      "60000/60000 [==============================] - 788s 13ms/step - loss: 0.1754 - acc: 0.9335 - val_loss: 0.2204 - val_acc: 0.9224\n",
      "Epoch 11/12\n",
      "60000/60000 [==============================] - 803s 13ms/step - loss: 0.1698 - acc: 0.9364 - val_loss: 0.2158 - val_acc: 0.9240\n",
      "Epoch 12/12\n",
      "60000/60000 [==============================] - 879s 15ms/step - loss: 0.1580 - acc: 0.9398 - val_loss: 0.2199 - val_acc: 0.9229\n",
      "10000/10000 [==============================] - 44s 4ms/step\n",
      "acc: 92.29%\n",
      "Larger CNN Error: 7.71%\n"
     ]
    }
   ],
   "source": [
    "import numpy\n",
    "from keras.datasets import fashion_mnist\n",
    "from keras.models import Sequential\n",
    "from keras.layers import Dense\n",
    "from keras.layers import Dropout\n",
    "from keras.layers import Flatten\n",
    "from keras.layers.convolutional import Conv2D\n",
    "from keras.layers.convolutional import MaxPooling2D\n",
    "from keras.utils import np_utils\n",
    "from keras import backend as K\n",
    "K.set_image_dim_ordering('th')\n",
    "\n",
    "# load data\n",
    "(X_train, y_train), (X_test, y_test) = fashion_mnist.load_data()\n",
    "\n",
    "batch_size = 128\n",
    "num_classes = 10\n",
    "epochs = 12\n",
    "\n",
    "# input image dimensions\n",
    "img_rows, img_cols = 28, 28\n",
    "\n",
    "# reshape to be [samples][pixels][width][height]\n",
    "X_train = X_train.reshape(X_train.shape[0], 1, 28, 28).astype('float32')\n",
    "X_test = X_test.reshape(X_test.shape[0], 1, 28, 28).astype('float32')\n",
    "input_shape = (1, img_rows, img_cols)\n",
    "\n",
    "# normalize inputs from 0-255 to 0-1\n",
    "X_train = X_train / 255\n",
    "X_test = X_test / 255\n",
    "# one hot encode outputs\n",
    "y_train = np_utils.to_categorical(y_train)\n",
    "y_test = np_utils.to_categorical(y_test)\n",
    "num_classes = y_test.shape[1]\n",
    "\n",
    "# define the larger model\n",
    "def larger_CNNclassifier():\n",
    "# create model\n",
    "    classifier = Sequential()\n",
    "    classifier.add(Conv2D(filters=32, kernel_size=(5,5), padding='same', input_shape= input_shape, activation='relu'))\n",
    "    classifier.add(Conv2D(filters=32, kernel_size=(5,5), padding='same',activation='relu'))\n",
    "    classifier.add(MaxPooling2D(pool_size=(2, 2)))\n",
    "    classifier.add(Conv2D(filters=15, kernel_size=(3, 3), padding='same', activation='relu'))\n",
    "    classifier.add(Conv2D(filters=15, kernel_size=(3, 3), padding='same', activation='relu'))\n",
    "    classifier.add(MaxPooling2D(pool_size=(2, 2)))\n",
    "    classifier.add(Dropout(0.2))\n",
    "    classifier.add(Flatten())\n",
    "    classifier.add(Dense(128, activation='relu'))\n",
    "    classifier.add(Dense(50, activation='relu'))\n",
    "    classifier.add(Dense(num_classes, activation='softmax'))\n",
    "# Compile model\n",
    "    classifier.compile(loss='categorical_crossentropy', optimizer='adam', metrics=['accuracy'])\n",
    "    return classifier\n",
    "# build the model\n",
    "largerCNNclassifier = larger_CNNclassifier()\n",
    "# Fit the model\n",
    "largerCNNclassifier_history = largerCNNclassifier.fit(X_train, y_train, validation_data=(X_test, y_test), epochs=epochs, batch_size=batch_size)\n",
    "# Final evaluation of the model\n",
    "scores = largerCNNclassifier.evaluate(X_test, y_test, verbose=1)\n",
    "print(\"acc: %.2f%%\" % (scores[1]*100))\n",
    "print(\"Larger CNN Error: %.2f%%\" % (100-scores[1]*100))"
   ]
  },
  {
   "cell_type": "code",
   "execution_count": 19,
   "metadata": {},
   "outputs": [
    {
     "data": {
      "image/png": "[encoded data removed]",
      "text/plain": [
       "<Figure size 432x288 with 1 Axes>"
      ]
     },
     "metadata": {
      "needs_background": "light"
     },
     "output_type": "display_data"
    },
    {
     "data": {
      "image/png": "[encoded data removed]",
      "text/plain": [
       "<Figure size 432x288 with 1 Axes>"
      ]
     },
     "metadata": {
      "needs_background": "light"
     },
     "output_type": "display_data"
    },
    {
     "name": "stdout",
     "output_type": "stream",
     "text": [
      "_________________________________________________________________\n",
      "Layer (type)                 Output Shape              Param #   \n",
      "=================================================================\n",
      "conv2d_16 (Conv2D)           (None, 32, 28, 28)        832       \n",
      "_________________________________________________________________\n",
      "conv2d_17 (Conv2D)           (None, 32, 24, 24)        25632     \n",
      "_________________________________________________________________\n",
      "max_pooling2d_10 (MaxPooling (None, 32, 12, 12)        0         \n",
      "_________________________________________________________________\n",
      "conv2d_18 (Conv2D)           (None, 15, 12, 12)        12015     \n",
      "_________________________________________________________________\n",
      "conv2d_19 (Conv2D)           (None, 15, 8, 8)          5640      \n",
      "_________________________________________________________________\n",
      "max_pooling2d_11 (MaxPooling (None, 15, 4, 4)          0         \n",
      "_________________________________________________________________\n",
      "dropout_6 (Dropout)          (None, 15, 4, 4)          0         \n",
      "_________________________________________________________________\n",
      "flatten_6 (Flatten)          (None, 240)               0         \n",
      "_________________________________________________________________\n",
      "dense_17 (Dense)             (None, 128)               30848     \n",
      "_________________________________________________________________\n",
      "dense_18 (Dense)             (None, 50)                6450      \n",
      "_________________________________________________________________\n",
      "dense_19 (Dense)             (None, 10)                510       \n",
      "=================================================================\n",
      "Total params: 81,927\n",
      "Trainable params: 81,927\n",
      "Non-trainable params: 0\n",
      "_________________________________________________________________\n"
     ]
    }
   ],
   "source": [
    "import matplotlib.pyplot as plt\n",
    "%matplotlib inline \n",
    "plt.plot(largerCNNclassifier_history.history['acc'])\n",
    "plt.plot(largerCNNclassifier_history.history['val_acc'])\n",
    "plt.title('model accuracy')\n",
    "plt.ylabel('accuracy')\n",
    "plt.xlabel('epoch')\n",
    "plt.legend(['train', 'test'], loc='upper left')\n",
    "plt.show()\n",
    " \n",
    "plt.plot(largerCNNclassifier_history.history['loss'])\n",
    "plt.plot(largerCNNclassifier_history.history['val_loss'])\n",
    "plt.title('loss accuracy')\n",
    "plt.ylabel('loss')\n",
    "plt.xlabel('epoch')\n",
    "plt.legend(['train', 'test'], loc='upper left')\n",
    "plt.show()\n",
    "import os\n",
    "largerCNNclassifier.summary()"
   ]
  },
  {
   "cell_type": "code",
   "execution_count": 15,
   "metadata": {},
   "outputs": [
    {
     "data": {
      "image/png": "[encoded data removed]",
      "text/plain": [
       "<Figure size 432x288 with 2 Axes>"
      ]
     },
     "metadata": {
      "needs_background": "light"
     },
     "output_type": "display_data"
    }
   ],
   "source": [
    "from sklearn.metrics import confusion_matrix\n",
    "import itertools\n",
    "import numpy as np\n",
    "import matplotlib.pyplot as plt\n",
    "%matplotlib inline\n",
    "def plot_confusion_matrix(cm, classes, normalize=False, title='Confusion matrix', cmap=plt.cm.Blues):\n",
    "    \"\"\"\n",
    "    This function prints and plots the confusion matrix.\n",
    "    Normalization can be applied by setting `normalize=True`.\n",
    "    \"\"\"\n",
    "    plt.imshow(cm, interpolation='nearest', cmap=cmap)\n",
    "    plt.title(title)\n",
    "    plt.colorbar()\n",
    "    tick_marks = np.arange(len(classes))\n",
    "    plt.xticks(tick_marks, classes, rotation=45)\n",
    "    plt.yticks(tick_marks, classes)\n",
    "\n",
    "    if normalize:\n",
    "        cm = cm.astype('float') / cm.sum(axis=1)[:, np.newaxis]\n",
    "\n",
    "    thresh = cm.max() / 2.\n",
    "    for i, j in itertools.product(range(cm.shape[0]), range(cm.shape[1])):\n",
    "        plt.text(j, i, cm[i, j],\n",
    "                 horizontalalignment=\"center\",\n",
    "                 color=\"white\" if cm[i, j] > thresh else \"black\")\n",
    "\n",
    "    plt.tight_layout()\n",
    "    plt.ylabel('True label')\n",
    "    plt.xlabel('Predicted label')\n",
    "\n",
    "# Predict the values from the validation dataset\n",
    "ypred_onehot = largerCNNclassifier.predict(X_test)\n",
    "# Convert predictions classes from one hot vectors to labels: [0 0 1 0 0 ...] --> 2\n",
    "ypred = np.argmax(ypred_onehot,axis=1)\n",
    "# Convert validation observations from one hot vectors to labels\n",
    "ytrue = np.argmax(y_test,axis=1)\n",
    "# compute the confusion matrix\n",
    "confusion_mtx = confusion_matrix(ytrue, ypred)\n",
    "# plot the confusion matrix\n",
    "plot_confusion_matrix(confusion_mtx, classes=range(num_classes))"
   ]
  },
  {
   "cell_type": "markdown",
   "metadata": {},
   "source": [
    "#### Saving Keras Model\n",
    "To save a Keras model into a single HDF5 file which will contain: the architecture of the model, allowing to re-create the model; the weights of the model; the training configuration (loss, optimizer); the state of the optimizer, allowing to resume training exactly where it was left off, the following codes are used."
   ]
  },
  {
   "cell_type": "code",
   "execution_count": 20,
   "metadata": {},
   "outputs": [],
   "source": [
    "from keras.models import load_model\n",
    "\n",
    "largeCNNclassifier.save('FashionMNISTCNN2.h5')  # creates a HDF5 file 'FashionMNISTCNN2.h5'\n",
    "del largeCNNclassifier  # deletes the existing model\n",
    "largerCNNclassifier.save('FashionMNISTCNN3.h5')  # creates a HDF5 file 'FashionMNISTCNN3.h5'\n",
    "del largerCNNclassifier  # deletes the existing model\n",
    "\n",
    "# returns a compiled model identical to the previous one\n",
    "#classifier = load_model('my_modelMNIST.h5')\n",
    "\n",
    "#Saving/loading only a model's architecture\n",
    "# save as JSON\n",
    "#json_string = classifier.to_json()\n",
    "\n",
    "# save as YAML\n",
    "#yaml_string = classifier.to_yaml()\n",
    "# model reconstruction from JSON:\n",
    "#from keras.models import model_from_json\n",
    "#classifier = model_from_json(json_string)\n",
    "\n",
    "# model reconstruction from YAML:\n",
    "#from keras.models import model_from_yaml\n",
    "#classifier = model_from_yaml(yaml_string)"
   ]
  },
  {
   "cell_type": "markdown",
   "metadata": {},
   "source": [
    "## **3. Conclusion** <a name=\"conclusion\"></a>\n",
    "I have successfully built & saved a convolutional neural network model to classify fashion products images with TensorFlow backend Keras API which achieved accuracy over 99% \n",
    "\n",
    "\n",
    "## **4. References** <a name=\"conclusion\"></a>\n",
    "1.\tzalandoresearch/fashion-mnist https://github.com/zalandoresearch/fashion-mnist\n",
    "2.\tFashion-MNIST: a Novel Image Dataset for Benchmarking Machine Learning Algorithms https://arxiv.org/abs/1708.07747 \n",
    "3.\tFashion-MNIST database of fashion articles https://keras.io/datasets/#fashion-mnist-database-of-fashion-articles\n",
    "4.\tKeras Documentation: How can I save a Keras model? https://keras.io/getting-started/faq/#how-can-i-save-a-keras-model\n",
    "5.\tFashion MNIST in Keras https://www.kaggle.com/anebzt/fashion-mnist-in-keras"
   ]
  }
 ],
 "metadata": {
  "kernelspec": {
   "display_name": "Python 3",
   "language": "python",
   "name": "python3"
  },
  "language_info": {
   "codemirror_mode": {
    "name": "ipython",
    "version": 3
   },
   "file_extension": ".py",
   "mimetype": "text/x-python",
   "name": "python",
   "nbconvert_exporter": "python",
   "pygments_lexer": "ipython3",
   "version": "3.7.3"
  }
 },
 "nbformat": 4,
 "nbformat_minor": 2
}
