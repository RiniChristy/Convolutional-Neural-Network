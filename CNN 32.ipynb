{
 "cells": [
  {
   "cell_type": "code",
   "execution_count": 1,
   "metadata": {},
   "outputs": [
    {
     "name": "stderr",
     "output_type": "stream",
     "text": [
      "Using TensorFlow backend.\n"
     ]
    },
    {
     "name": "stdout",
     "output_type": "stream",
     "text": [
      "WARNING:tensorflow:From C:\\Users\\Christy\\Anaconda3\\lib\\site-packages\\tensorflow\\python\\framework\\op_def_library.py:263: colocate_with (from tensorflow.python.framework.ops) is deprecated and will be removed in a future version.\n",
      "Instructions for updating:\n",
      "Colocations handled automatically by placer.\n",
      "Found 8000 images belonging to 2 classes.\n",
      "Found 2000 images belonging to 2 classes.\n",
      "WARNING:tensorflow:From C:\\Users\\Christy\\Anaconda3\\lib\\site-packages\\tensorflow\\python\\ops\\math_ops.py:3066: to_int32 (from tensorflow.python.ops.math_ops) is deprecated and will be removed in a future version.\n",
      "Instructions for updating:\n",
      "Use tf.cast instead.\n",
      "Epoch 1/25\n",
      "250/250 [==============================] - 309s 1s/step - loss: 0.6767 - acc: 0.5795 - val_loss: 0.6372 - val_acc: 0.6260\n",
      "Epoch 2/25\n",
      "250/250 [==============================] - 175s 699ms/step - loss: 0.6035 - acc: 0.6769 - val_loss: 0.7173 - val_acc: 0.6005\n",
      "Epoch 3/25\n",
      "250/250 [==============================] - 123s 490ms/step - loss: 0.5613 - acc: 0.7121 - val_loss: 0.5314 - val_acc: 0.7470\n",
      "Epoch 4/25\n",
      "250/250 [==============================] - 133s 533ms/step - loss: 0.5301 - acc: 0.7356 - val_loss: 0.5493 - val_acc: 0.7315\n",
      "Epoch 5/25\n",
      "250/250 [==============================] - 140s 559ms/step - loss: 0.5131 - acc: 0.7409 - val_loss: 0.5187 - val_acc: 0.7450\n",
      "Epoch 6/25\n",
      "250/250 [==============================] - 135s 542ms/step - loss: 0.4851 - acc: 0.7656 - val_loss: 0.4829 - val_acc: 0.7665\n",
      "Epoch 7/25\n",
      "250/250 [==============================] - 139s 554ms/step - loss: 0.4679 - acc: 0.7757 - val_loss: 0.4752 - val_acc: 0.7730\n",
      "Epoch 8/25\n",
      "250/250 [==============================] - 136s 544ms/step - loss: 0.4543 - acc: 0.7806 - val_loss: 0.4812 - val_acc: 0.7740\n",
      "Epoch 9/25\n",
      "250/250 [==============================] - 138s 552ms/step - loss: 0.4438 - acc: 0.7905 - val_loss: 0.4707 - val_acc: 0.7905\n",
      "Epoch 10/25\n",
      "250/250 [==============================] - 140s 561ms/step - loss: 0.4280 - acc: 0.7995 - val_loss: 0.5038 - val_acc: 0.7685\n",
      "Epoch 11/25\n",
      "250/250 [==============================] - 141s 565ms/step - loss: 0.4189 - acc: 0.8050 - val_loss: 0.4477 - val_acc: 0.7995\n",
      "Epoch 12/25\n",
      "250/250 [==============================] - 138s 551ms/step - loss: 0.4117 - acc: 0.8104 - val_loss: 0.4708 - val_acc: 0.7915\n",
      "Epoch 13/25\n",
      "250/250 [==============================] - 138s 553ms/step - loss: 0.3976 - acc: 0.8181 - val_loss: 0.4789 - val_acc: 0.7795\n",
      "Epoch 14/25\n",
      "250/250 [==============================] - 139s 555ms/step - loss: 0.3882 - acc: 0.8212 - val_loss: 0.4448 - val_acc: 0.8050\n",
      "Epoch 15/25\n",
      "250/250 [==============================] - 165s 659ms/step - loss: 0.3761 - acc: 0.8269 - val_loss: 0.4875 - val_acc: 0.7805\n",
      "Epoch 16/25\n",
      "250/250 [==============================] - 249s 996ms/step - loss: 0.3685 - acc: 0.8329 - val_loss: 0.4663 - val_acc: 0.8010\n",
      "Epoch 17/25\n",
      "250/250 [==============================] - 238s 953ms/step - loss: 0.3620 - acc: 0.8361 - val_loss: 0.4585 - val_acc: 0.7965\n",
      "Epoch 18/25\n",
      "250/250 [==============================] - 261s 1s/step - loss: 0.3606 - acc: 0.8396 - val_loss: 0.5218 - val_acc: 0.7790\n",
      "Epoch 19/25\n",
      "250/250 [==============================] - 249s 994ms/step - loss: 0.3388 - acc: 0.8491 - val_loss: 0.4768 - val_acc: 0.7785\n",
      "Epoch 20/25\n",
      "250/250 [==============================] - 182s 729ms/step - loss: 0.3337 - acc: 0.8496 - val_loss: 0.4685 - val_acc: 0.8070\n",
      "Epoch 21/25\n",
      "250/250 [==============================] - 205s 820ms/step - loss: 0.3221 - acc: 0.8571 - val_loss: 0.5185 - val_acc: 0.7950\n",
      "Epoch 22/25\n",
      "250/250 [==============================] - 320s 1s/step - loss: 0.3133 - acc: 0.8639 - val_loss: 0.4692 - val_acc: 0.7965\n",
      "Epoch 23/25\n",
      "250/250 [==============================] - 335s 1s/step - loss: 0.2987 - acc: 0.8673 - val_loss: 0.6135 - val_acc: 0.7480\n",
      "Epoch 24/25\n",
      "250/250 [==============================] - 281s 1s/step - loss: 0.2997 - acc: 0.8670 - val_loss: 0.5464 - val_acc: 0.7645\n",
      "Epoch 25/25\n",
      "250/250 [==============================] - 162s 646ms/step - loss: 0.2826 - acc: 0.8810 - val_loss: 0.4953 - val_acc: 0.8050\n"
     ]
    },
    {
     "data": {
      "text/plain": [
       "<Figure size 640x480 with 1 Axes>"
      ]
     },
     "metadata": {},
     "output_type": "display_data"
    },
    {
     "data": {
      "text/plain": [
       "<Figure size 640x480 with 1 Axes>"
      ]
     },
     "metadata": {},
     "output_type": "display_data"
    },
    {
     "name": "stdout",
     "output_type": "stream",
     "text": [
      "The model class indices are: {'cats': 0, 'dogs': 1}\n"
     ]
    }
   ],
   "source": [
    "# Part 1 - Building the CNN\n",
    "\n",
    "# Importing the Keras libraries and packages\n",
    "from keras.models import Sequential\n",
    "from keras.layers import Conv2D\n",
    "from keras.layers import MaxPooling2D\n",
    "from keras.layers import Flatten\n",
    "from keras.layers import Dense\n",
    "\n",
    "# Initialising the CNN\n",
    "classifier = Sequential()\n",
    "\n",
    "# Step 1 - Convolution\n",
    "classifier.add(Conv2D(32, (3, 3), input_shape = (64, 64, 3), activation = 'relu'))\n",
    "# 32 feature detector(filters) with 3 rows and 3 columns (3 X 3 dimension) to create a convolutional layers with 32 feature maps\n",
    "# working with cpu go for 32 instead of 64.\n",
    "# to convert all our input image into all same single format with fixed size.\n",
    "# 3d array for coloured and 2D for B&W\n",
    "# 3D array composed of 3 channels, each channel corresponds to one colour (Blue, Green & Red and each channel corresponds to one 2D array that contains the pixels of our images.\n",
    "# input_shape(64, 64, 3) for tensor flow backened corresponds to  3 channels for RBG (1 if B&W) with 256 X 256 are the dimensions of the 2D array.\n",
    "# for theono backened use (3, 64, 64)\n",
    "# activation = 'relu', rectifier function for nonlinearity\n",
    "\n",
    "# Step 2 - Pooling\n",
    "classifier.add(MaxPooling2D(pool_size = (2, 2)))\n",
    "\n",
    "# Adding a second convolutional layer to improve the accuracy of the test set. \n",
    "classifier.add(Conv2D(32, (3, 3), activation = 'relu'))\n",
    "classifier.add(MaxPooling2D(pool_size = (2, 2)))\n",
    "\n",
    "# Step 3 - Flattening\n",
    "classifier.add(Flatten())\n",
    "\n",
    "# Step 4 - Full connection\n",
    "classifier.add(Dense(activation = 'relu', units = 128))\n",
    "classifier.add(Dense(activation = 'sigmoid', units = 1))\n",
    "\n",
    "\n",
    "# Compiling the CNN\n",
    "classifier.compile(optimizer = 'adam', loss = 'binary_crossentropy', metrics = ['accuracy'])\n",
    "\n",
    "# Part 2 - Fitting the CNN to the images\n",
    "from keras.preprocessing.image import ImageDataGenerator\n",
    "\n",
    "train_datagen = ImageDataGenerator(rescale = 1./255,\n",
    "                                   shear_range = 0.2,\n",
    "                                   zoom_range = 0.2,\n",
    "                                   horizontal_flip = True)\n",
    "\n",
    "test_datagen = ImageDataGenerator(rescale = 1./255)\n",
    "\n",
    "training_set = train_datagen.flow_from_directory('dataset/training_set',\n",
    "                                                 target_size = (64, 64),\n",
    "                                                 batch_size = 32,\n",
    "                                                 class_mode = 'binary')\n",
    "\n",
    "test_set = test_datagen.flow_from_directory('dataset/test_set',\n",
    "                                            target_size = (64, 64),\n",
    "                                            batch_size = 32,\n",
    "                                            class_mode = 'binary')\n",
    "\n",
    "batch_size = 32\n",
    "classifier_history = classifier.fit_generator(training_set,\n",
    "                         steps_per_epoch = 8000/batch_size,\n",
    "                         epochs = 25,\n",
    "                         validation_data = test_set,\n",
    "                         validation_steps = 2000/batch_size)\n",
    "import matplotlib.pyplot as plt\n",
    "plt.plot(classifier_history.history['acc'])\n",
    "plt.plot(classifier_history.history['val_acc'])\n",
    "plt.title('model accuracy')\n",
    "plt.ylabel('accuracy')\n",
    "plt.xlabel('epoch')\n",
    "plt.legend(['train', 'test'], loc='upper left')\n",
    "plt.show()\n",
    " \n",
    "plt.plot(classifier_history.history['loss'])\n",
    "plt.plot(classifier_history.history['val_loss'])\n",
    "plt.title('loss accuracy')\n",
    "plt.ylabel('loss')\n",
    "plt.xlabel('epoch')\n",
    "plt.legend(['train', 'test'], loc='upper left')\n",
    "plt.show()\n",
    "print(\"The model class indices are:\", training_set.class_indices)"
   ]
  },
  {
   "cell_type": "code",
   "execution_count": 2,
   "metadata": {},
   "outputs": [
    {
     "data": {
      "image/png": "[encoded data removed]",
      "text/plain": [
       "<Figure size 432x288 with 1 Axes>"
      ]
     },
     "metadata": {
      "needs_background": "light"
     },
     "output_type": "display_data"
    },
    {
     "data": {
      "image/png": "[encoded data removed]",
      "text/plain": [
       "<Figure size 432x288 with 1 Axes>"
      ]
     },
     "metadata": {
      "needs_background": "light"
     },
     "output_type": "display_data"
    },
    {
     "name": "stdout",
     "output_type": "stream",
     "text": [
      "The model class indices are: {'cats': 0, 'dogs': 1}\n"
     ]
    }
   ],
   "source": [
    "%matplotlib inline \n",
    "import matplotlib.pyplot as plt\n",
    "plt.plot(classifier_history.history['acc'])\n",
    "plt.plot(classifier_history.history['val_acc'])\n",
    "plt.title('model accuracy')\n",
    "plt.ylabel('accuracy')\n",
    "plt.xlabel('epoch')\n",
    "plt.legend(['train', 'test'], loc='upper left')\n",
    "plt.show()\n",
    " \n",
    "plt.plot(classifier_history.history['loss'])\n",
    "plt.plot(classifier_history.history['val_loss'])\n",
    "plt.title('loss accuracy')\n",
    "plt.ylabel('loss')\n",
    "plt.xlabel('epoch')\n",
    "plt.legend(['train', 'test'], loc='upper left')\n",
    "plt.show()\n",
    "print(\"The model class indices are:\", training_set.class_indices)"
   ]
  },
  {
   "cell_type": "code",
   "execution_count": 3,
   "metadata": {},
   "outputs": [],
   "source": [
    "# Part 3 - Making new predictions\n",
    "import numpy as np\n",
    "from keras.preprocessing import image\n",
    "test_image = image.load_img('dataset/single_prediction/cat_or_dog_1.jpg', target_size = (64, 64))\n",
    "test_image = image.img_to_array(test_image)\n",
    "test_image = np.expand_dims(test_image, axis = 0)\n",
    "result = classifier.predict(test_image)\n",
    "training_set.class_indices\n",
    "if result[0][0] == 1:\n",
    "    prediction = 'dog'\n",
    "else:\n",
    "    prediction = 'cat'"
   ]
  },
  {
   "cell_type": "code",
   "execution_count": 4,
   "metadata": {},
   "outputs": [
    {
     "data": {
      "text/plain": [
       "array([[1.]], dtype=float32)"
      ]
     },
     "execution_count": 4,
     "metadata": {},
     "output_type": "execute_result"
    }
   ],
   "source": [
    "result"
   ]
  },
  {
   "cell_type": "code",
   "execution_count": 5,
   "metadata": {},
   "outputs": [
    {
     "data": {
      "text/plain": [
       "'dog'"
      ]
     },
     "execution_count": 5,
     "metadata": {},
     "output_type": "execute_result"
    }
   ],
   "source": [
    "prediction"
   ]
  }
 ],
 "metadata": {
  "kernelspec": {
   "display_name": "Python 3",
   "language": "python",
   "name": "python3"
  },
  "language_info": {
   "codemirror_mode": {
    "name": "ipython",
    "version": 3
   },
   "file_extension": ".py",
   "mimetype": "text/x-python",
   "name": "python",
   "nbconvert_exporter": "python",
   "pygments_lexer": "ipython3",
   "version": "3.7.3"
  }
 },
 "nbformat": 4,
 "nbformat_minor": 2
}
