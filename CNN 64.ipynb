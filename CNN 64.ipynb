{
 "cells": [
  {
   "cell_type": "code",
   "execution_count": 1,
   "metadata": {},
   "outputs": [
    {
     "name": "stderr",
     "output_type": "stream",
     "text": [
      "Using TensorFlow backend.\n"
     ]
    },
    {
     "name": "stdout",
     "output_type": "stream",
     "text": [
      "WARNING:tensorflow:From C:\\Users\\Christy\\Anaconda3\\lib\\site-packages\\tensorflow\\python\\framework\\op_def_library.py:263: colocate_with (from tensorflow.python.framework.ops) is deprecated and will be removed in a future version.\n",
      "Instructions for updating:\n",
      "Colocations handled automatically by placer.\n",
      "Found 8000 images belonging to 2 classes.\n",
      "Found 2000 images belonging to 2 classes.\n",
      "WARNING:tensorflow:From C:\\Users\\Christy\\Anaconda3\\lib\\site-packages\\tensorflow\\python\\ops\\math_ops.py:3066: to_int32 (from tensorflow.python.ops.math_ops) is deprecated and will be removed in a future version.\n",
      "Instructions for updating:\n",
      "Use tf.cast instead.\n",
      "Epoch 1/25\n",
      "250/250 [==============================] - 303s 1s/step - loss: 0.6730 - acc: 0.5836 - val_loss: 0.6003 - val_acc: 0.6780\n",
      "Epoch 2/25\n",
      "250/250 [==============================] - 307s 1s/step - loss: 0.6100 - acc: 0.6689 - val_loss: 0.5607 - val_acc: 0.7175\n",
      "Epoch 3/25\n",
      "250/250 [==============================] - 311s 1s/step - loss: 0.5693 - acc: 0.7022 - val_loss: 0.5250 - val_acc: 0.7490\n",
      "Epoch 4/25\n",
      "250/250 [==============================] - 311s 1s/step - loss: 0.5315 - acc: 0.7344 - val_loss: 0.4786 - val_acc: 0.7690\n",
      "Epoch 5/25\n",
      "250/250 [==============================] - 309s 1s/step - loss: 0.5049 - acc: 0.7516 - val_loss: 0.5153 - val_acc: 0.7455\n",
      "Epoch 6/25\n",
      "250/250 [==============================] - 301s 1s/step - loss: 0.4889 - acc: 0.7639 - val_loss: 0.4610 - val_acc: 0.7820\n",
      "Epoch 7/25\n",
      "250/250 [==============================] - 318s 1s/step - loss: 0.4592 - acc: 0.7830 - val_loss: 0.4179 - val_acc: 0.8085\n",
      "Epoch 8/25\n",
      "250/250 [==============================] - 301s 1s/step - loss: 0.4494 - acc: 0.7883 - val_loss: 0.4564 - val_acc: 0.7920\n",
      "Epoch 9/25\n",
      "250/250 [==============================] - 299s 1s/step - loss: 0.4277 - acc: 0.7991 - val_loss: 0.4030 - val_acc: 0.8070\n",
      "Epoch 10/25\n",
      "250/250 [==============================] - 314s 1s/step - loss: 0.4127 - acc: 0.8121 - val_loss: 0.4001 - val_acc: 0.8215\n",
      "Epoch 11/25\n",
      "250/250 [==============================] - 335s 1s/step - loss: 0.3892 - acc: 0.8207 - val_loss: 0.3892 - val_acc: 0.8250\n",
      "Epoch 12/25\n",
      "250/250 [==============================] - 329s 1s/step - loss: 0.3830 - acc: 0.8260 - val_loss: 0.3743 - val_acc: 0.8370\n",
      "Epoch 13/25\n",
      "250/250 [==============================] - 297s 1s/step - loss: 0.3652 - acc: 0.8365 - val_loss: 0.3468 - val_acc: 0.8485\n",
      "Epoch 14/25\n",
      "250/250 [==============================] - 274s 1s/step - loss: 0.3498 - acc: 0.8434 - val_loss: 0.3809 - val_acc: 0.8375\n",
      "Epoch 15/25\n",
      "250/250 [==============================] - 279s 1s/step - loss: 0.3457 - acc: 0.8466 - val_loss: 0.3829 - val_acc: 0.8330\n",
      "Epoch 16/25\n",
      "250/250 [==============================] - 251s 1s/step - loss: 0.3396 - acc: 0.8495 - val_loss: 0.3531 - val_acc: 0.8430\n",
      "Epoch 17/25\n",
      "250/250 [==============================] - 248s 993ms/step - loss: 0.3354 - acc: 0.8514 - val_loss: 0.3819 - val_acc: 0.8300\n",
      "Epoch 18/25\n",
      "250/250 [==============================] - 247s 989ms/step - loss: 0.3217 - acc: 0.8571 - val_loss: 0.4570 - val_acc: 0.8205\n",
      "Epoch 19/25\n",
      "250/250 [==============================] - 250s 1s/step - loss: 0.3120 - acc: 0.8641 - val_loss: 0.3593 - val_acc: 0.8435\n",
      "Epoch 20/25\n",
      "250/250 [==============================] - 252s 1s/step - loss: 0.3018 - acc: 0.8664 - val_loss: 0.3499 - val_acc: 0.8405\n",
      "Epoch 21/25\n",
      "250/250 [==============================] - 248s 991ms/step - loss: 0.2934 - acc: 0.8723 - val_loss: 0.3974 - val_acc: 0.8500\n",
      "Epoch 22/25\n",
      "250/250 [==============================] - 250s 1s/step - loss: 0.2942 - acc: 0.8759 - val_loss: 0.4142 - val_acc: 0.8495\n",
      "Epoch 23/25\n",
      "250/250 [==============================] - 251s 1s/step - loss: 0.2808 - acc: 0.8786 - val_loss: 0.4167 - val_acc: 0.8260\n",
      "Epoch 24/25\n",
      "250/250 [==============================] - 251s 1s/step - loss: 0.2792 - acc: 0.8799 - val_loss: 0.3846 - val_acc: 0.8420\n",
      "Epoch 25/25\n",
      "250/250 [==============================] - 244s 976ms/step - loss: 0.2749 - acc: 0.8819 - val_loss: 0.3964 - val_acc: 0.8450\n"
     ]
    },
    {
     "data": {
      "text/plain": [
       "<Figure size 640x480 with 1 Axes>"
      ]
     },
     "metadata": {},
     "output_type": "display_data"
    },
    {
     "data": {
      "text/plain": [
       "<Figure size 640x480 with 1 Axes>"
      ]
     },
     "metadata": {},
     "output_type": "display_data"
    },
    {
     "name": "stdout",
     "output_type": "stream",
     "text": [
      "The model class indices are: {'cats': 0, 'dogs': 1}\n"
     ]
    }
   ],
   "source": [
    "# Part 1 - Building the CNN\n",
    "\n",
    "# Importing the Keras libraries and packages\n",
    "from keras.models import Sequential\n",
    "from keras.layers import Conv2D\n",
    "from keras.layers import MaxPooling2D\n",
    "from keras.layers import Flatten\n",
    "from keras.layers import Dense\n",
    "\n",
    "# Initialising the CNN\n",
    "classifier = Sequential()\n",
    "\n",
    "# Step 1 - Convolution\n",
    "classifier.add(Conv2D(64, (3, 3), input_shape = (64, 64, 3), activation = 'relu'))\n",
    "# 32 feature detector(filters) with 3 rows and 3 columns (3 X 3 dimension) to create a convolutional layers with 32 feature maps\n",
    "# working with cpu go for 32 instead of 64.\n",
    "# to convert all our input image into all same single format with fixed size.\n",
    "# 3d array for coloured and 2D for B&W\n",
    "# 3D array composed of 3 channels, each channel corresponds to one colour (Blue, Green & Red and each channel corresponds to one 2D array that contains the pixels of our images.\n",
    "# input_shape(64, 64, 3) for tensor flow backened corresponds to  3 channels for RBG (1 if B&W) with 256 X 256 are the dimensions of the 2D array.\n",
    "# for theono backened use (3, 64, 64)\n",
    "# activation = 'relu', rectifier function for nonlinearity\n",
    "\n",
    "# Step 2 - Pooling\n",
    "classifier.add(MaxPooling2D(pool_size = (2, 2)))\n",
    "\n",
    "# Adding a second convolutional layer to improve the accuracy of the test set. \n",
    "classifier.add(Conv2D(64, (3, 3), activation = 'relu'))\n",
    "classifier.add(MaxPooling2D(pool_size = (2, 2)))\n",
    "\n",
    "# Adding a third convolutional layer to improve the accuracy of the test set. \n",
    "classifier.add(Conv2D(64, (3, 3), activation = 'relu'))\n",
    "classifier.add(MaxPooling2D(pool_size = (2, 2)))\n",
    "\n",
    "# Adding a fourth convolutional layer to improve the accuracy of the test set. \n",
    "classifier.add(Conv2D(64, (3, 3), activation = 'relu'))\n",
    "classifier.add(MaxPooling2D(pool_size = (2, 2)))\n",
    "\n",
    "# Step 3 - Flattening\n",
    "classifier.add(Flatten())\n",
    "\n",
    "# Step 4 - Full connection\n",
    "classifier.add(Dense(activation = 'relu', units = 128))\n",
    "classifier.add(Dense(activation = 'sigmoid', units = 1))\n",
    "\n",
    "\n",
    "# Compiling the CNN\n",
    "classifier.compile(optimizer = 'rmsprop', loss = 'binary_crossentropy', metrics = ['accuracy'])\n",
    "\n",
    "# Part 2 - Fitting the CNN to the images\n",
    "from keras.preprocessing.image import ImageDataGenerator\n",
    "\n",
    "train_datagen = ImageDataGenerator(rescale = 1./255,\n",
    "                                   shear_range = 0.2,\n",
    "                                   zoom_range = 0.2,\n",
    "                                   horizontal_flip = True)\n",
    "\n",
    "test_datagen = ImageDataGenerator(rescale = 1./255)\n",
    "\n",
    "training_set = train_datagen.flow_from_directory('dataset/training_set',\n",
    "                                                 target_size = (64, 64),\n",
    "                                                 batch_size = 32,\n",
    "                                                 class_mode = 'binary')\n",
    "\n",
    "test_set = test_datagen.flow_from_directory('dataset/test_set',\n",
    "                                            target_size = (64, 64),\n",
    "                                            batch_size = 32,\n",
    "                                            class_mode = 'binary')\n",
    "batch_size = 32\n",
    "classifier_history = classifier.fit_generator(training_set,\n",
    "                         steps_per_epoch = 8000/batch_size,\n",
    "                         epochs = 25,\n",
    "                         validation_data = test_set,\n",
    "                         validation_steps = 2000/batch_size)\n",
    "\n",
    "import matplotlib.pyplot as plt\n",
    "plt.plot(classifier_history.history['acc'])\n",
    "plt.plot(classifier_history.history['val_acc'])\n",
    "plt.title('model accuracy')\n",
    "plt.ylabel('accuracy')\n",
    "plt.xlabel('epoch')\n",
    "plt.legend(['train', 'test'], loc='upper left')\n",
    "plt.show()\n",
    " \n",
    "plt.plot(classifier_history.history['loss'])\n",
    "plt.plot(classifier_history.history['val_loss'])\n",
    "plt.title('loss accuracy')\n",
    "plt.ylabel('loss')\n",
    "plt.xlabel('epoch')\n",
    "plt.legend(['train', 'test'], loc='upper left')\n",
    "plt.show()\n",
    "print(\"The model class indices are:\", training_set.class_indices)"
   ]
  },
  {
   "cell_type": "code",
   "execution_count": 2,
   "metadata": {},
   "outputs": [
    {
     "data": {
      "image/png": "[encoded data removed]",
      "text/plain": [
       "<Figure size 432x288 with 1 Axes>"
      ]
     },
     "metadata": {
      "needs_background": "light"
     },
     "output_type": "display_data"
    },
    {
     "data": {
      "image/png": "[encoded data removed]",
      "text/plain": [
       "<Figure size 432x288 with 1 Axes>"
      ]
     },
     "metadata": {
      "needs_background": "light"
     },
     "output_type": "display_data"
    },
    {
     "name": "stdout",
     "output_type": "stream",
     "text": [
      "The model class indices are: {'cats': 0, 'dogs': 1}\n"
     ]
    }
   ],
   "source": [
    "import matplotlib.pyplot as plt\n",
    "%matplotlib inline \n",
    "plt.plot(classifier_history.history['acc'])\n",
    "plt.plot(classifier_history.history['val_acc'])\n",
    "plt.title('model accuracy')\n",
    "plt.ylabel('accuracy')\n",
    "plt.xlabel('epoch')\n",
    "plt.legend(['train', 'test'], loc='upper left')\n",
    "plt.show()\n",
    " \n",
    "plt.plot(classifier_history.history['loss'])\n",
    "plt.plot(classifier_history.history['val_loss'])\n",
    "plt.title('loss accuracy')\n",
    "plt.ylabel('loss')\n",
    "plt.xlabel('epoch')\n",
    "plt.legend(['train', 'test'], loc='upper left')\n",
    "plt.show()\n",
    "print(\"The model class indices are:\", training_set.class_indices)"
   ]
  },
  {
   "cell_type": "code",
   "execution_count": 3,
   "metadata": {},
   "outputs": [
    {
     "data": {
      "text/plain": [
       "'dog'"
      ]
     },
     "execution_count": 3,
     "metadata": {},
     "output_type": "execute_result"
    }
   ],
   "source": [
    "# Part 3 - Making new predictions\n",
    "import numpy as np\n",
    "from keras.preprocessing import image\n",
    "test_image = image.load_img('dataset/single_prediction/cat_or_dog_1.jpg', target_size = (64, 64))\n",
    "test_image = image.img_to_array(test_image)\n",
    "test_image = np.expand_dims(test_image, axis = 0)\n",
    "result = classifier.predict(test_image)\n",
    "training_set.class_indices\n",
    "if result[0][0] == 1:\n",
    "    prediction = 'dog'\n",
    "else:\n",
    "    prediction = 'cat'\n",
    "prediction"
   ]
  }
 ],
 "metadata": {
  "kernelspec": {
   "display_name": "Python 3",
   "language": "python",
   "name": "python3"
  },
  "language_info": {
   "codemirror_mode": {
    "name": "ipython",
    "version": 3
   },
   "file_extension": ".py",
   "mimetype": "text/x-python",
   "name": "python",
   "nbconvert_exporter": "python",
   "pygments_lexer": "ipython3",
   "version": "3.7.3"
  }
 },
 "nbformat": 4,
 "nbformat_minor": 2
}
