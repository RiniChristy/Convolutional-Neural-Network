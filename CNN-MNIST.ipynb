{
 "cells": [
  {
   "cell_type": "markdown",
   "metadata": {},
   "source": [
    "# MNIST Image Recognition using Convolutional Neural Network"
   ]
  },
  {
   "cell_type": "markdown",
   "metadata": {},
   "source": [
    "# Table of contents\n",
    "1. [Introduction](#introduction)\n",
    "2. [Methodology: Data Collection, Data Preprocessing, Building Classifier Models, Evaluation, Prediction & Saving Models](#part2)\n",
    "\n",
    "    2.1. [Part 1: Data Preprocessing](#subparagraph1)\n",
    "    \n",
    "    2.2. [Part 2: Building Classifier Models](#subparagraph2)\n",
    "    \n",
    "    2.3. [Part 3: Predictions](#subparagraph3)\n",
    "    \n",
    "    2.4. [Part 3: Model Hypertuning](#subparagraph4)\n",
    "    \n",
    "3. [Conclusion](#conclusion)\n",
    "4. [References](#references)"
   ]
  },
  {
   "cell_type": "markdown",
   "metadata": {},
   "source": [
    "## **1. Introduction** <a name=\"introduction\"></a>\n",
    "Convolutional neural networks (abbreviated as “CNN”), a supervised learning algorithm employing Multilayer perceptrons have applications in computer vision like recognizing patterns, actions, emotions, faces and pictures or videos or even recognizing tumors in some brain images. CNN does this by categorizing images according to the objects included in them. A multilayer perceptron (MLP) is a deep neural network composed of an input layer to receive the signal, an output layer that makes a decision or prediction about the input, and in between those two, an arbitrary number of hidden layers that are the true computational engine of the Neural network . They train on a set of input-output pairs and learn to model the correlation (or dependencies) between those inputs and outputs. Just like our brain often times mistakenly categorizes objects at first sight, convolutional neural networks are prone to the same indecision when presented with an object or an image from an angle that can easily place it under more than one category. Training involves adjusting the parameters, or the weights and biases, of the model in order to minimize error. Backpropagation is used to make those weights and bias adjustments relative to the error and the error itself can be measured in a variety of ways\n",
    "My goal in this article is to address precisely the application of convolutional neural network in handwriting recognition making use of different classifier models generated from a Convolutional Neural Network using Keras with TensorFlow backend based on a set of training data. This is a typical example of Multilayer Perceptron (MLP) for multi-class softmax classification. The models are then tested & evaluated on a test set to compare the accuracy & reduction in error rate achieved. Eventually, the best model is exploited to recognize numeric characters present in images not yet seen by the model. I will use the Modified National Institute of Standards and Technology (MNIST) database, already well known dataset of handwritten digits taken from American Census Bureau employees, and American high school students. "
   ]
  },
  {
   "cell_type": "markdown",
   "metadata": {},
   "source": [
    "## **2. Methodology: Data Collection, Data Preprocessing, Building Classifier Models, Evaluation, Prediction & Saving Models** <a name=\"part2\"></a>\n",
    "The evaluation is done by building 3 Neural networks starting from simple neural network to very basic Convolutional Neural Network and then to a larger CNN with two convolutional layer and pooling layer. After evaluation, the model is used to predict images previously not trained or tested by the model. The model is then saved to a single HDF5 file allowing running the model exactly where it was left off. I follow the codes obtained from pages like Keras documentation, luisfredgs’ medium.com article & also from Jason Brownlee’s machinelearningmastery.com, but using it in a way I comprehended the working of CNN.\n",
    "\n",
    "### **2.1 Part 1: Data Preprocessing** <a name=\"subparagraph1\"></a>\n",
    "#### Loading the MNIST dataset from Keras \n",
    "Keras & Tensorflow can import and download the MNIST dataset directly from their API. The digits are already size-normalized and centered in a fixed-size image to facilitate the user to spend minimal efforts on preprocessing and formatting.\n",
    "\n",
    "#### Visualization of Data\n",
    "Colored images are represented in three dimensional information (RGB), but Black and white images need only two dimensional information. Hence for black and white images each pixel needs only a single layer. For images, the information about colors is given in terms of pixels and 1 byte is used for each pixel. One byte contains 8 bits, each of which can take the value of 1 or 0. So the maximum number of combinations possible is 256 (2^8). Hence two-dimensional black & white images will be represented in the scale 0 to 255 where 0 is pitch black and 255 is pure white and in between are various shades of grey.\n",
    "MNIST database of handwritten digits contains a dataset of 60,000 28x28 grayscale images of the 10 digits, along with a test set of 10,000 images. X_train and X_test parts contain greyscale codes from 0 to 255, while y_train and y_test parts contains labels from 0 to 9 which represents which number they actually are. These numbers can be visualized with the help of matplotlib."
   ]
  },
  {
   "cell_type": "code",
   "execution_count": 1,
   "metadata": {},
   "outputs": [
    {
     "name": "stderr",
     "output_type": "stream",
     "text": [
      "Using TensorFlow backend.\n"
     ]
    },
    {
     "data": {
      "image/png": "[encoded data removed]",
      "text/plain": [
       "<Figure size 432x288 with 9 Axes>"
      ]
     },
     "metadata": {
      "needs_background": "light"
     },
     "output_type": "display_data"
    }
   ],
   "source": [
    "from keras.datasets import mnist\n",
    "import matplotlib.pyplot as plt\n",
    "%matplotlib inline \n",
    "\n",
    "# load the MNIST dataset \n",
    "(X_train, y_train), (X_test, y_test) = mnist.load_data()\n",
    "\n",
    "#To visualize first six mnist instances of training dataset\n",
    "# plot 6 images as gray scale\n",
    "plt.subplot(331)\n",
    "plt.imshow(X_train[10], cmap=plt.get_cmap('gray'))\n",
    "plt.subplot(332)\n",
    "plt.imshow(X_train[100], cmap=plt.get_cmap('gray'))\n",
    "plt.subplot(333)\n",
    "plt.imshow(X_train[1000], cmap=plt.get_cmap('gray'))\n",
    "plt.subplot(334)\n",
    "plt.imshow(X_train[10000], cmap=plt.get_cmap('gray'))\n",
    "plt.subplot(335)\n",
    "plt.imshow(X_train[20000], cmap=plt.get_cmap('gray'))\n",
    "plt.subplot(336)\n",
    "plt.imshow(X_train[30000], cmap=plt.get_cmap('gray'))\n",
    "plt.subplot(337)\n",
    "plt.imshow(X_train[40000], cmap=plt.get_cmap('gray'))\n",
    "plt.subplot(338)\n",
    "plt.imshow(X_train[50000], cmap=plt.get_cmap('gray'))\n",
    "plt.subplot(339)\n",
    "plt.imshow(X_train[59999], cmap=plt.get_cmap('gray'))\n",
    "# show the plot\n",
    "plt.show()"
   ]
  },
  {
   "cell_type": "markdown",
   "metadata": {},
   "source": [
    "### **Part 2: Building Classifier Models** <a name=\"subparagraph2\"></a>\n",
    "#### Baseline Classifier Model\n",
    "To start with, first the analysis is done using a very simple neural network classifier model with a single hidden layer as done in Artificial Neural Network. The model is defined in a baseline classifier function with parameters like 'softmax' activation, 'categorical_crossentropy' (Logarithmic loss) loss function, & 'adam' gradient descent optimizer. The model is fit over 10 epochs with a batch size of 200 images. The model is then evaluated using test set accuracy and error rate. "
   ]
  },
  {
   "cell_type": "code",
   "execution_count": 2,
   "metadata": {},
   "outputs": [
    {
     "name": "stdout",
     "output_type": "stream",
     "text": [
      "WARNING:tensorflow:From C:\\Users\\Christy\\Anaconda3\\lib\\site-packages\\tensorflow\\python\\framework\\op_def_library.py:263: colocate_with (from tensorflow.python.framework.ops) is deprecated and will be removed in a future version.\n",
      "Instructions for updating:\n",
      "Colocations handled automatically by placer.\n",
      "WARNING:tensorflow:From C:\\Users\\Christy\\Anaconda3\\lib\\site-packages\\tensorflow\\python\\ops\\math_ops.py:3066: to_int32 (from tensorflow.python.ops.math_ops) is deprecated and will be removed in a future version.\n",
      "Instructions for updating:\n",
      "Use tf.cast instead.\n",
      "Train on 60000 samples, validate on 10000 samples\n",
      "Epoch 1/10\n",
      "60000/60000 [==============================] - 5s 85us/step - loss: 0.2751 - acc: 0.9216 - val_loss: 0.1295 - val_acc: 0.9614\n",
      "Epoch 2/10\n",
      "60000/60000 [==============================] - 5s 75us/step - loss: 0.1103 - acc: 0.9684 - val_loss: 0.0914 - val_acc: 0.9719\n",
      "Epoch 3/10\n",
      "60000/60000 [==============================] - 5s 76us/step - loss: 0.0705 - acc: 0.9795 - val_loss: 0.0801 - val_acc: 0.9748\n",
      "Epoch 4/10\n",
      "60000/60000 [==============================] - 5s 76us/step - loss: 0.0491 - acc: 0.9857 - val_loss: 0.0694 - val_acc: 0.9782\n",
      "Epoch 5/10\n",
      "60000/60000 [==============================] - 5s 76us/step - loss: 0.0358 - acc: 0.9896 - val_loss: 0.0649 - val_acc: 0.9797\n",
      "Epoch 6/10\n",
      "60000/60000 [==============================] - 5s 76us/step - loss: 0.0256 - acc: 0.9933 - val_loss: 0.0642 - val_acc: 0.9807\n",
      "Epoch 7/10\n",
      "60000/60000 [==============================] - 5s 76us/step - loss: 0.0198 - acc: 0.9951 - val_loss: 0.0648 - val_acc: 0.9813\n",
      "Epoch 8/10\n",
      "60000/60000 [==============================] - 5s 76us/step - loss: 0.0141 - acc: 0.9967 - val_loss: 0.0606 - val_acc: 0.9810\n",
      "Epoch 9/10\n",
      "60000/60000 [==============================] - 5s 76us/step - loss: 0.0104 - acc: 0.9978 - val_loss: 0.0626 - val_acc: 0.9804\n",
      "Epoch 10/10\n",
      "60000/60000 [==============================] - 5s 77us/step - loss: 0.0081 - acc: 0.9987 - val_loss: 0.0567 - val_acc: 0.9826\n",
      "acc: 98.26%\n",
      "Baseline NN Error: 1.74%\n"
     ]
    }
   ],
   "source": [
    "import numpy\n",
    "from keras.datasets import mnist\n",
    "from keras.models import Sequential\n",
    "from keras.layers import Dense\n",
    "from keras.layers import Dropout\n",
    "from keras.utils import np_utils\n",
    "\n",
    "# load data\n",
    "(X_train, y_train), (X_test, y_test) = mnist.load_data()\n",
    "\n",
    "# flatten 28*28 images to a 784 vector for each image\n",
    "num_pixels = X_train.shape[1] * X_train.shape[2]\n",
    "\n",
    "# Reshaping the array to 2-dims so that it can work with the Keras simple Neural network\n",
    "X_train = X_train.reshape(X_train.shape[0], num_pixels).astype('float32')\n",
    "X_test = X_test.reshape(X_test.shape[0], num_pixels).astype('float32')\n",
    "\n",
    "# normalize inputs from 0-255 to 0-1\n",
    "X_train = X_train / 255\n",
    "X_test = X_test / 255\n",
    "\n",
    "# one hot encode outputs\n",
    "y_train = np_utils.to_categorical(y_train)\n",
    "y_test = np_utils.to_categorical(y_test)\n",
    "num_classes = y_test.shape[1]\n",
    "\n",
    "# define baseline classifier\n",
    "def baseline_NNclassifier():\n",
    "# create model\n",
    "    classifier = Sequential()\n",
    "    classifier.add(Dense(num_pixels, input_dim=num_pixels, kernel_initializer='normal', activation='relu'))\n",
    "    classifier.add(Dense(num_classes, kernel_initializer='normal', activation='softmax'))\n",
    "# Compile classifier model\n",
    "    classifier.compile(loss='categorical_crossentropy', optimizer='adam', metrics=['accuracy'])\n",
    "    return classifier\n",
    "# build the classifier model\n",
    "classifier = baseline_NNclassifier()\n",
    "# Fit the model\n",
    "classifier_history = classifier.fit(X_train, y_train, validation_data=(X_test, y_test), epochs=10, batch_size=200)\n",
    "# Final evaluation of the classifier model\n",
    "scores = classifier.evaluate(X_test, y_test, verbose=0)\n",
    "print(\"acc: %.2f%%\" % (scores[1]*100))\n",
    "print(\"Baseline NN Error: %.2f%%\" % (100-scores[1]*100))"
   ]
  },
  {
   "cell_type": "markdown",
   "metadata": {},
   "source": [
    "This simple neural network classifier model achieved a remarkable accuracy of 98.26% with a marginal error rate of 1.74%.\n",
    "\n",
    "Convolutional Neural Network can be employed to improve the accuracy further. \n",
    "#### CNN Architecture\n",
    "The model is initialized by creating an object of the sequential class. CNN building process takes four steps. Step one, Convolution; step two, Max Pooling, step three, Flattening and step four, Full Connection. Layers can be added in between each of these steps to tune the model to achieve the best accuracy possible. \n",
    "\n",
    "To know the shape of the dataset to channel it to the convolutional neural network the “shape” attribute of numpy array is used. "
   ]
  },
  {
   "cell_type": "code",
   "execution_count": 3,
   "metadata": {},
   "outputs": [
    {
     "data": {
      "text/plain": [
       "(60000, 28, 28)"
      ]
     },
     "execution_count": 3,
     "metadata": {},
     "output_type": "execute_result"
    }
   ],
   "source": [
    "import numpy\n",
    "from keras.datasets import mnist\n",
    "from keras.models import Sequential\n",
    "from keras.layers import Dense\n",
    "from keras.layers import Dropout\n",
    "from keras.layers import Flatten\n",
    "from keras.layers.convolutional import Conv2D\n",
    "from keras.layers.convolutional import MaxPooling2D\n",
    "from keras.utils import np_utils\n",
    "from keras import backend as K\n",
    "K.set_image_dim_ordering('th')\n",
    "\n",
    "# load data\n",
    "(X_train, y_train), (X_test, y_test) = mnist.load_data()\n",
    "X_train.shape"
   ]
  },
  {
   "cell_type": "markdown",
   "metadata": {},
   "source": [
    "60000 represents the number of images in the train dataset and (28, 28) represents the size of the image: 28 x 28 pixels. Images with 28 by 28 pixels with only greyscale, will end up having 784 (28 x 28 x 1) neurons in a layer which seems manageable. \n",
    "\n",
    "#### Reshaping the input X array\n",
    "As seen above, the input x array is 3-dimensional. It needs to be converted to 4-dimensional numpy arrays to be able to use the dataset in Keras CNN. This is achieved easily by using the reshape() function on the NumPy array. \n",
    "\n",
    "#### Normalizing the Images\n",
    "Dividing by the maximum value of 255, all pixel values will be rescaled between zero and one.\n",
    "\n",
    "#### One hot encoding of categorical output values\n",
    "This is a multi-class classification problem where the output variable is an integer ranging from 0 to 9. To transform the vector of class integers into a binary matrix, one hot encoding is done on the categorical values using the built-in np_utils.to_categorical()function in Keras."
   ]
  },
  {
   "cell_type": "code",
   "execution_count": 4,
   "metadata": {},
   "outputs": [
    {
     "name": "stdout",
     "output_type": "stream",
     "text": [
      "X_train shape: (60000, 1, 28, 28)\n",
      "Number of images in X_train 60000\n",
      "Number of images in X_test 10000\n"
     ]
    }
   ],
   "source": [
    "batch_size = 200\n",
    "num_classes = 10\n",
    "epochs = 10\n",
    "\n",
    "# input image dimensions\n",
    "img_rows, img_cols = 28, 28\n",
    "\n",
    "# reshaping the array to 4-dims so that it can work with the Keras CNN\n",
    "# reshape to be [samples][pixels][width][height]\n",
    "X_train = X_train.reshape(X_train.shape[0], 1, 28, 28).astype('float32')\n",
    "X_test = X_test.reshape(X_test.shape[0], 1, 28, 28).astype('float32')\n",
    "input_shape = (1, img_rows, img_cols)\n",
    "\n",
    "# Making sure that the values are float so as to get decimal points after division\n",
    "X_train = X_train.astype('float32')\n",
    "X_test = X_test.astype('float32')\n",
    "\n",
    "# Normalizing the pixel values by dividing it by the max value of 255.\n",
    "X_train /= 255\n",
    "X_test /= 255\n",
    "\n",
    "# one hot encode outputs\n",
    "y_train = np_utils.to_categorical(y_train, num_classes)\n",
    "y_test = np_utils.to_categorical(y_test, num_classes)\n",
    "\n",
    "print('X_train shape:', X_train.shape)\n",
    "print('Number of images in X_train', X_train.shape[0])\n",
    "print('Number of images in X_test', X_test.shape[0])"
   ]
  },
  {
   "cell_type": "markdown",
   "metadata": {},
   "source": [
    "#### Define Simple CNN classifier model Architecture\n",
    "**_First Layer: The Input Layer_**\n",
    "\n",
    "The input layer is 60000x1x28x28 reshaped, normalized MNIST hand-written digit grayscale image. \n",
    "\n",
    "\n",
    "**_Second Layer: The first hidden layer - Convolution_**\n",
    "\n",
    "The first hidden layer of the network is going to perform some convolutions scanning over the input image using 32 distinct filters (also known as feature detectors or neurons or convolution kernel). The feature detectors will be 5x5 dimensions in size with 1x1 stride (1 pixel shift at each step). Convolving a 5x5 filter with a 28x28 pixel image yields a 32x28x28 filtered image, called feature map. The feature map contains some numbers and the highest numbers of the feature map is where the feature detector could detect a specific feature in the input image. This operation here between the input image and the feature detector that results in the future map, is the convolution operation and is done using Convolution2D function. The first argument is nb_filter, the number of filters. This is exactly the number of feature detectors that I’m going to apply on the input image to get this same number of feature maps because there will be one feature map created for each filter used. The second argument is the dimensions of the feature detector used. The third argument is the number of feature detectors; working on a CPU, I am limiting the number to 32. The fourth argument is input_shape, the shape of the input image on which I am going to apply the feature detectors through the convolution operation and this converts all our images into one fixed size of the image  with one same single format of 2D arrays with one channel for a black and white image. Finally, the well performed “rectifier linear unit (relu)” is taken as the activation function. \n",
    "These 32 convolutions with 5x5 feature detectors will generate 32 separate output maps, with a 32x28x28 matrix as the output of layer 2. \n",
    "\n",
    "\n",
    "**_Third Layer: Second hidden layer- Max pooling_**\n",
    "\n",
    "Pooling step just consists of reducing the size of convoluted feature maps. This is done by sliding a 2x2 dimension square table over the feature map with a stride of two to take the maximum of the four cells.  The size of the original feature map is divided by two when max pooling is applied. This has the effect of subsampling the output maps by a factor of 2 in both dimensions, so we get a 32x14x14 matrix pooling layer. This is to reduce the number of nodes for the next step, that is the Flattening step and then the Full Connection step because in these next steps basically the outcome is all the cells of feature maps, flattened in one huge one-dimensional vector. So, if the size of these feature maps is not reduced, the outcome will be a too large vector and then too many nodes in the fully connected layers and therefore the model will become highly compute-intensive. To avoid this max pooling is applied to reduce the size of feature maps and therefore to reduce the number of nodes in the future fully connected layers reducing the complexity and the time execution but without the losing the performance of the model. \n",
    "The max pooling is done using MaxPooling2D function with a pool size of two-by-two dimensions. \n",
    "\n",
    "\n",
    "**_Fourth Layer: Dropout_**\n",
    "\n",
    "To tackle overfitting, dropout regularization is applied to the neurons so that 20% of them randomly become disabled at each iteration. \n",
    "\n",
    "\n",
    "**_Fifth Layer: Flattening_**\n",
    "\n",
    "This layer consists of taking all the pooled feature maps and put them into one single huge one dimensional vector by applying the Flatten step. \n",
    "\n",
    "\n",
    "**_Sixth Layer: The full connection_**\n",
    "\n",
    "output_dim parameter which is the number of nodes in the hidden layer is taken as 128 along with the ‘rectifier linear(relu)’ activation function. \n",
    "\n",
    "\n",
    "**_Seventh Layer: The output layer_**\n",
    "\n",
    "The output layer is configured with Softmax activation function for multiclass classification problem and 10 output units corresponding to 10 classes from 0 to 9 digits. \n",
    "\n",
    "\n",
    "**_Fit the model_**\n",
    "\n",
    "Same as done above for the simple neural network, the classifier model is then compiled to train using logarithmic loss 'categorical_crossentropy' which is specific for multiclass classification and the ‘adam’ gradient descent optimizer.\n",
    "The classifier model is then evaluated using test set accuracy and error rate. "
   ]
  },
  {
   "cell_type": "code",
   "execution_count": 5,
   "metadata": {},
   "outputs": [
    {
     "name": "stdout",
     "output_type": "stream",
     "text": [
      "WARNING:tensorflow:From C:\\Users\\Christy\\Anaconda3\\lib\\site-packages\\keras\\backend\\tensorflow_backend.py:3445: calling dropout (from tensorflow.python.ops.nn_ops) with keep_prob is deprecated and will be removed in a future version.\n",
      "Instructions for updating:\n",
      "Please use `rate` instead of `keep_prob`. Rate should be set to `rate = 1 - keep_prob`.\n",
      "Train on 60000 samples, validate on 10000 samples\n",
      "Epoch 1/10\n",
      "60000/60000 [==============================] - 112s 2ms/step - loss: 0.2431 - acc: 0.9284 - val_loss: 0.0858 - val_acc: 0.9756\n",
      "Epoch 2/10\n",
      "60000/60000 [==============================] - 117s 2ms/step - loss: 0.0745 - acc: 0.9780 - val_loss: 0.0562 - val_acc: 0.9819\n",
      "Epoch 3/10\n",
      "60000/60000 [==============================] - 118s 2ms/step - loss: 0.0525 - acc: 0.9838 - val_loss: 0.0444 - val_acc: 0.9856\n",
      "Epoch 4/10\n",
      "60000/60000 [==============================] - 120s 2ms/step - loss: 0.0400 - acc: 0.9878 - val_loss: 0.0356 - val_acc: 0.9877\n",
      "Epoch 5/10\n",
      "60000/60000 [==============================] - 121s 2ms/step - loss: 0.0316 - acc: 0.9902 - val_loss: 0.0340 - val_acc: 0.9889\n",
      "Epoch 6/10\n",
      "60000/60000 [==============================] - 121s 2ms/step - loss: 0.0259 - acc: 0.9917 - val_loss: 0.0343 - val_acc: 0.9892\n",
      "Epoch 7/10\n",
      "60000/60000 [==============================] - 120s 2ms/step - loss: 0.0212 - acc: 0.9929 - val_loss: 0.0345 - val_acc: 0.9885\n",
      "Epoch 8/10\n",
      "60000/60000 [==============================] - 121s 2ms/step - loss: 0.0187 - acc: 0.9940 - val_loss: 0.0306 - val_acc: 0.9905\n",
      "Epoch 9/10\n",
      "60000/60000 [==============================] - 121s 2ms/step - loss: 0.0154 - acc: 0.9954 - val_loss: 0.0358 - val_acc: 0.9892\n",
      "Epoch 10/10\n",
      "60000/60000 [==============================] - 122s 2ms/step - loss: 0.0127 - acc: 0.9957 - val_loss: 0.0342 - val_acc: 0.9887\n",
      "acc: 98.87%\n",
      "Simple CNN Error: 1.13%\n"
     ]
    }
   ],
   "source": [
    "def simple_CNNclassifier():\n",
    "# create model\n",
    "    classifier = Sequential()\n",
    "    classifier.add(Conv2D(filters=32, kernel_size=(5,5), padding='same', input_shape=(1, 28, 28), activation='relu'))\n",
    "    classifier.add(MaxPooling2D(pool_size=(2, 2)))\n",
    "    classifier.add(Dropout(0.2))\n",
    "    classifier.add(Flatten())\n",
    "    classifier.add(Dense(128, activation='relu'))\n",
    "    classifier.add(Dense(num_classes, activation='softmax'))\n",
    "# Compile classifier model\n",
    "    classifier.compile(loss='categorical_crossentropy', optimizer='adam', metrics=['accuracy'])\n",
    "    return classifier\n",
    "# build the model\n",
    "simpleCNNclassifier = simple_CNNclassifier()\n",
    "# Fit the model\n",
    "simpleCNNclassifier_history = simpleCNNclassifier.fit(X_train, y_train, validation_data=(X_test, y_test), epochs=epochs, batch_size=batch_size)\n",
    "# Final evaluation of the model\n",
    "scores = simpleCNNclassifier.evaluate(X_test, y_test, verbose=0)\n",
    "print(\"acc: %.2f%%\" % (scores[1]*100))\n",
    "print(\"Simple CNN Error: %.2f%%\" % (100-scores[1]*100))"
   ]
  },
  {
   "cell_type": "markdown",
   "metadata": {},
   "source": [
    "As can be seen from the result, the Simple CNN classifier model is improved further achieving a better accuracy of 98.87% with lesser error rate of 1.13%. \n",
    "\n",
    "\n",
    "#### Define Large CNN classifier model Architecture\n",
    "\n",
    "**_First Layer: The Input Layer_**\n",
    "\n",
    "The 4 dimensionally reshaped, normalized X_arrays. \n",
    "\n",
    "\n",
    "**_Second Layer: The first hidden layer - Convolution_**\n",
    "\n",
    "The Convolution of 28x28 pixel image with 32 5x5 feature detector yielding 32x28x28 filtered image, called feature map.\n",
    "\n",
    "\n",
    "**_Third Layer: Second hidden layer- Max pooling_**\n",
    "\n",
    "The pooling layer with 5x5 dimensions to output 32x14x14 pooled layer (75% reduced complexity).\n",
    "\n",
    "**_Fourth Layer: Third hidden layer – Second convolution layer_**\n",
    "\n",
    "The fourth layer is another convolution layer. Here I’ll apply 15 distinct filters with a kernel size of 5x5, to contain 15 neurons. \n",
    "When a convolution is performed on the original input image, the image only had a depth of 1 (because it’s grayscale). However, the output of third layer with dimension has a depth of 32. A single neuron in the fourth layer is going to be connected to all 32 pooled maps from the third layer. One way to think about how this is controlled is to say that the fourth layer filters have a size of 15x5x5. That is, each filter in the fourth layer has 375 unique weight values in it. In the code, however, convolutions are only done with two-dimensional filters. Instead of having 15 32x5x5 filters, we have 480 1x5x5 filters. For each of the 15 fourth layer filters, there are 32 separate 1x5x5 kernels. To apply a single fourth layer filter, 32 convolutions (one for each output map in the third layer) are performed, and then sum up all of the resulting maps to make a single 1x14x14 output map for that filter. This is done for each of the 15 filters to create the 15x14x14 output of the fourth layer.\n",
    "\n",
    "\n",
    "**_Fifth Layer: Fourth hidden layer – Second Max pooling_**\n",
    "\n",
    "Finally, one last pooling operation that’s identical to the one in the third layer is executed, subsampling by a factor of 2 in each dimension to generate the 15x7x7 output of the fifth layer.\n",
    "\n",
    "\n",
    "**_Sixth Layer: Dropout_**\n",
    "\n",
    "To tackle overfitting, dropout regularization is applied to the neurons so that 20% of them randomly become disabled at each iteration. \n",
    "\n",
    "\n",
    "**_Seventh Layer: Flattening_**\n",
    "\n",
    "The resulting output maps are unwound into our final feature vector containing 735 values (15x7x7 = 735).\n",
    "\n",
    "\n",
    "**_Eighth Layer: The full connection_**\n",
    "\n",
    "Two layers are chosen with the number of nodes in the hidden layer is taken as 128 for the first and 50 for the second; both are configured with the ‘rectifier linear (relu)’ activation function.\n",
    "\n",
    "\n",
    "**_Ninth Layer: The output layer_**\n",
    "\n",
    "The output layer with Softmax activation function for multiclass classification problem and 10 output units corresponding to 10 classes from 0 to 9 digits. "
   ]
  },
  {
   "cell_type": "code",
   "execution_count": 6,
   "metadata": {},
   "outputs": [
    {
     "name": "stdout",
     "output_type": "stream",
     "text": [
      "Train on 60000 samples, validate on 10000 samples\n",
      "Epoch 1/10\n",
      "60000/60000 [==============================] - 208s 3ms/step - loss: 0.3133 - acc: 0.9049 - val_loss: 0.0634 - val_acc: 0.9797\n",
      "Epoch 2/10\n",
      "60000/60000 [==============================] - 213s 4ms/step - loss: 0.0787 - acc: 0.9758 - val_loss: 0.0445 - val_acc: 0.9852\n",
      "Epoch 3/10\n",
      "60000/60000 [==============================] - 212s 4ms/step - loss: 0.0576 - acc: 0.9829 - val_loss: 0.0379 - val_acc: 0.9870\n",
      "Epoch 4/10\n",
      "60000/60000 [==============================] - 212s 4ms/step - loss: 0.0483 - acc: 0.9847 - val_loss: 0.0273 - val_acc: 0.9898\n",
      "Epoch 5/10\n",
      "60000/60000 [==============================] - 213s 4ms/step - loss: 0.0398 - acc: 0.9872 - val_loss: 0.0295 - val_acc: 0.9899\n",
      "Epoch 6/10\n",
      "60000/60000 [==============================] - 210s 4ms/step - loss: 0.0345 - acc: 0.9888 - val_loss: 0.0252 - val_acc: 0.9912\n",
      "Epoch 7/10\n",
      "60000/60000 [==============================] - 207s 3ms/step - loss: 0.0304 - acc: 0.9902 - val_loss: 0.0297 - val_acc: 0.9897\n",
      "Epoch 8/10\n",
      "60000/60000 [==============================] - 212s 4ms/step - loss: 0.0259 - acc: 0.9913 - val_loss: 0.0249 - val_acc: 0.9914\n",
      "Epoch 9/10\n",
      "60000/60000 [==============================] - 213s 4ms/step - loss: 0.0253 - acc: 0.9918 - val_loss: 0.0256 - val_acc: 0.9910\n",
      "Epoch 10/10\n",
      "60000/60000 [==============================] - 212s 4ms/step - loss: 0.0218 - acc: 0.9928 - val_loss: 0.0259 - val_acc: 0.9921\n",
      "acc: 99.21%\n",
      "Large CNN Error: 0.79%\n"
     ]
    }
   ],
   "source": [
    "import numpy\n",
    "from keras.datasets import mnist\n",
    "from keras.models import Sequential\n",
    "from keras.layers import Dense\n",
    "from keras.layers import Dropout\n",
    "from keras.layers import Flatten\n",
    "from keras.layers.convolutional import Conv2D\n",
    "from keras.layers.convolutional import MaxPooling2D\n",
    "from keras.utils import np_utils\n",
    "from keras import backend as K\n",
    "K.set_image_dim_ordering('th')\n",
    "# load data\n",
    "(X_train, y_train), (X_test, y_test) = mnist.load_data()\n",
    "\n",
    "batch_size = 200\n",
    "num_classes = 10\n",
    "epochs = 10\n",
    "\n",
    "# input image dimensions\n",
    "img_rows, img_cols = 28, 28\n",
    "\n",
    "# reshaping the array to 4-dims so that it can work with the Keras CNN\n",
    "# reshape to be [samples][pixels][width][height]\n",
    "X_train = X_train.reshape(X_train.shape[0], 1, 28, 28).astype('float32')\n",
    "X_test = X_test.reshape(X_test.shape[0], 1, 28, 28).astype('float32')\n",
    "input_shape = (1, img_rows, img_cols)\n",
    "\n",
    "# normalize inputs from 0-255 to 0-1\n",
    "X_train = X_train / 255\n",
    "X_test = X_test / 255\n",
    "\n",
    "# one hot encode outputs\n",
    "y_train = np_utils.to_categorical(y_train, num_classes)\n",
    "y_test = np_utils.to_categorical(y_test, num_classes)\n",
    "\n",
    "\n",
    "# define the larger model\n",
    "def large_CNNclassifier():\n",
    "# create model\n",
    "    classifier = Sequential()\n",
    "    classifier.add(Conv2D(filters=32, kernel_size=(5,5), padding='same', input_shape = input_shape, activation ='relu'))\n",
    "    classifier.add(MaxPooling2D(pool_size=(2, 2)))\n",
    "    classifier.add(Conv2D(filters=15, kernel_size=(5, 5), padding='same', activation='relu'))\n",
    "    classifier.add(MaxPooling2D(pool_size=(2, 2)))\n",
    "    classifier.add(Dropout(0.2))\n",
    "    classifier.add(Flatten())\n",
    "    classifier.add(Dense(128, activation='relu'))\n",
    "    classifier.add(Dense(50, activation='relu'))\n",
    "    classifier.add(Dense(num_classes, activation='softmax'))\n",
    "# Compile model\n",
    "    classifier.compile(loss='categorical_crossentropy', optimizer='adam', metrics=['accuracy'])\n",
    "    return classifier\n",
    "# build the model\n",
    "largeCNNclassifier = large_CNNclassifier()\n",
    "# Fit the model\n",
    "largeCNNclassifier_history = largeCNNclassifier.fit(X_train, y_train, validation_data=(X_test, y_test), epochs=epochs, batch_size=batch_size)\n",
    "# Final evaluation of the model\n",
    "scores = largeCNNclassifier.evaluate(X_test, y_test, verbose=0)\n",
    "print(\"acc: %.2f%%\" % (scores[1]*100))\n",
    "print(\"Large CNN Error: %.2f%%\" % (100-scores[1]*100))"
   ]
  },
  {
   "cell_type": "markdown",
   "metadata": {},
   "source": [
    "Evaluation shows 99.21% accuracy on test set!. The improvement in accuracy with epochs can be visualized below:"
   ]
  },
  {
   "cell_type": "code",
   "execution_count": 7,
   "metadata": {},
   "outputs": [
    {
     "data": {
      "image/png": "[encoded data removed]",
      "text/plain": [
       "<Figure size 432x288 with 1 Axes>"
      ]
     },
     "metadata": {
      "needs_background": "light"
     },
     "output_type": "display_data"
    },
    {
     "data": {
      "image/png": "[encoded data removed]",
      "text/plain": [
       "<Figure size 432x288 with 1 Axes>"
      ]
     },
     "metadata": {
      "needs_background": "light"
     },
     "output_type": "display_data"
    }
   ],
   "source": [
    "import matplotlib.pyplot as plt\n",
    "%matplotlib inline \n",
    "plt.plot(largeCNNclassifier_history.history['acc'])\n",
    "plt.plot(largeCNNclassifier_history.history['val_acc'])\n",
    "plt.title('Large CNN model accuracy')\n",
    "plt.ylabel('accuracy')\n",
    "plt.xlabel('epoch')\n",
    "plt.legend(['train', 'test'], loc='upper left')\n",
    "plt.show()\n",
    " \n",
    "plt.plot(largeCNNclassifier_history.history['loss'])\n",
    "plt.plot(largeCNNclassifier_history.history['val_loss'])\n",
    "plt.title('Large CNN loss accuracy')\n",
    "plt.ylabel('loss')\n",
    "plt.xlabel('epoch')\n",
    "plt.legend(['train', 'test'], loc='upper left')\n",
    "plt.show()"
   ]
  },
  {
   "cell_type": "code",
   "execution_count": 8,
   "metadata": {},
   "outputs": [
    {
     "name": "stdout",
     "output_type": "stream",
     "text": [
      "_________________________________________________________________\n",
      "Layer (type)                 Output Shape              Param #   \n",
      "=================================================================\n",
      "conv2d_2 (Conv2D)            (None, 32, 28, 28)        832       \n",
      "_________________________________________________________________\n",
      "max_pooling2d_2 (MaxPooling2 (None, 32, 14, 14)        0         \n",
      "_________________________________________________________________\n",
      "conv2d_3 (Conv2D)            (None, 15, 14, 14)        12015     \n",
      "_________________________________________________________________\n",
      "max_pooling2d_3 (MaxPooling2 (None, 15, 7, 7)          0         \n",
      "_________________________________________________________________\n",
      "dropout_2 (Dropout)          (None, 15, 7, 7)          0         \n",
      "_________________________________________________________________\n",
      "flatten_2 (Flatten)          (None, 735)               0         \n",
      "_________________________________________________________________\n",
      "dense_5 (Dense)              (None, 128)               94208     \n",
      "_________________________________________________________________\n",
      "dense_6 (Dense)              (None, 50)                6450      \n",
      "_________________________________________________________________\n",
      "dense_7 (Dense)              (None, 10)                510       \n",
      "=================================================================\n",
      "Total params: 114,015\n",
      "Trainable params: 114,015\n",
      "Non-trainable params: 0\n",
      "_________________________________________________________________\n"
     ]
    }
   ],
   "source": [
    "import os\n",
    "largeCNNclassifier.summary()"
   ]
  },
  {
   "cell_type": "code",
   "execution_count": 10,
   "metadata": {},
   "outputs": [
    {
     "data": {
      "image/png": "[encoded data removed]",
      "text/plain": [
       "<Figure size 432x288 with 2 Axes>"
      ]
     },
     "metadata": {
      "needs_background": "light"
     },
     "output_type": "display_data"
    }
   ],
   "source": [
    "from sklearn.metrics import confusion_matrix\n",
    "import itertools\n",
    "import numpy as np\n",
    "import matplotlib.pyplot as plt\n",
    "%matplotlib inline\n",
    "def plot_confusion_matrix(cm, classes, normalize=False, title='Confusion matrix', cmap=plt.cm.Blues):\n",
    "    \"\"\"\n",
    "    This function prints and plots the confusion matrix.\n",
    "    Normalization can be applied by setting `normalize=True`.\n",
    "    \"\"\"\n",
    "    plt.imshow(cm, interpolation='nearest', cmap=cmap)\n",
    "    plt.title(title)\n",
    "    plt.colorbar()\n",
    "    tick_marks = np.arange(len(classes))\n",
    "    plt.xticks(tick_marks, classes, rotation=45)\n",
    "    plt.yticks(tick_marks, classes)\n",
    "\n",
    "    if normalize:\n",
    "        cm = cm.astype('float') / cm.sum(axis=1)[:, np.newaxis]\n",
    "\n",
    "    thresh = cm.max() / 2.\n",
    "    for i, j in itertools.product(range(cm.shape[0]), range(cm.shape[1])):\n",
    "        plt.text(j, i, cm[i, j],\n",
    "                 horizontalalignment=\"center\",\n",
    "                 color=\"white\" if cm[i, j] > thresh else \"black\")\n",
    "\n",
    "    plt.tight_layout()\n",
    "    plt.ylabel('True label')\n",
    "    plt.xlabel('Predicted label')\n",
    "\n",
    "# Predict the values from the validation dataset\n",
    "ypred_onehot = largeCNNclassifier.predict(X_test)\n",
    "# Convert predictions classes from one hot vectors to labels: [0 0 1 0 0 ...] --> 2\n",
    "ypred = np.argmax(ypred_onehot,axis=1)\n",
    "# Convert validation observations from one hot vectors to labels\n",
    "ytrue = np.argmax(y_test,axis=1)\n",
    "# compute the confusion matrix\n",
    "confusion_mtx = confusion_matrix(ytrue, ypred)\n",
    "# plot the confusion matrix\n",
    "plot_confusion_matrix(confusion_mtx, classes=range(num_classes))"
   ]
  },
  {
   "cell_type": "markdown",
   "metadata": {},
   "source": [
    "### **Part 3: Predictions** <a name=\"subparagraph3\"></a>\n",
    "Individual predictions with X_test single image can be done with the following code: "
   ]
  },
  {
   "cell_type": "code",
   "execution_count": 11,
   "metadata": {},
   "outputs": [
    {
     "name": "stdout",
     "output_type": "stream",
     "text": [
      "3\n"
     ]
    },
    {
     "data": {
      "image/png": "[encoded data removed]",
      "text/plain": [
       "<Figure size 432x288 with 1 Axes>"
      ]
     },
     "metadata": {
      "needs_background": "light"
     },
     "output_type": "display_data"
    }
   ],
   "source": [
    "image_index = 5000\n",
    "plt.imshow(X_test[image_index].reshape(28, 28),cmap='Greys')\n",
    "pred = largeCNNclassifier.predict(X_test[image_index].reshape(1, 1, 28, 28))\n",
    "print(pred.argmax())"
   ]
  },
  {
   "cell_type": "markdown",
   "metadata": {},
   "source": [
    "Even with a not so clear hand written image of the number 3, the model was able to classify it as 3.\n",
    "\n",
    "**Making predictions on new image, unknown to classifier model**"
   ]
  },
  {
   "cell_type": "code",
   "execution_count": 12,
   "metadata": {},
   "outputs": [
    {
     "name": "stdout",
     "output_type": "stream",
     "text": [
      "1  with confidence of  99.15%\n"
     ]
    },
    {
     "data": {
      "image/png": "[encoded data removed]",
      "text/plain": [
       "<Figure size 432x288 with 1 Axes>"
      ]
     },
     "metadata": {
      "needs_background": "light"
     },
     "output_type": "display_data"
    }
   ],
   "source": [
    "# Making new predictions\n",
    "import cv2\n",
    "img_pred = cv2.imread(\"images 1.png\", 0)\n",
    "plt.imshow(img_pred, cmap='gray')\n",
    "if img_pred.shape != [28,28]:\n",
    "    img2 = cv2.resize(img_pred, (28, 28))\n",
    "    img_pred = img2.reshape(28, 28, -1)\n",
    "else:\n",
    "    img_pred = img_pred.reshape(28, 28, -1)\n",
    "\n",
    "\n",
    "img_pred = img_pred.reshape(1, 1, 28, 28).astype('float32')\n",
    "\n",
    "img_pred = img_pred/255.0\n",
    "pred = largeCNNclassifier.predict_classes(img_pred)\n",
    "pred_proba = largeCNNclassifier.predict_proba(img_pred)\n",
    "pred_proba = \"%.2f%%\" % (pred_proba[0][pred]*100)\n",
    "print(pred[0], \" with confidence of \", pred_proba)"
   ]
  },
  {
   "cell_type": "code",
   "execution_count": 13,
   "metadata": {},
   "outputs": [
    {
     "name": "stdout",
     "output_type": "stream",
     "text": [
      "0  with confidence of  100.00%\n"
     ]
    },
    {
     "data": {
      "image/png": "[encoded data removed]",
      "text/plain": [
       "<Figure size 432x288 with 1 Axes>"
      ]
     },
     "metadata": {
      "needs_background": "light"
     },
     "output_type": "display_data"
    }
   ],
   "source": [
    "import cv2\n",
    "img_pred = cv2.imread(\"image 0.png\", 0)\n",
    "plt.imshow(img_pred, cmap='gray')\n",
    "if img_pred.shape != [28,28]:\n",
    "    img2 = cv2.resize(img_pred, (28, 28))\n",
    "    img_pred = img2.reshape(28, 28, -1)\n",
    "else:\n",
    "    img_pred = img_pred.reshape(28, 28, -1)\n",
    "\n",
    "\n",
    "img_pred = img_pred.reshape(1, 1, 28, 28).astype('float32')\n",
    "\n",
    "img_pred = img_pred/255.0\n",
    "pred = largeCNNclassifier.predict_classes(img_pred)\n",
    "pred_proba = largeCNNclassifier.predict_proba(img_pred)\n",
    "pred_proba = \"%.2f%%\" % (pred_proba[0][pred]*100)\n",
    "print(pred[0], \" with confidence of \", pred_proba)"
   ]
  },
  {
   "cell_type": "markdown",
   "metadata": {},
   "source": [
    "### **Part 4: Model Hypertuning** <a name=\"subparagraph4\"></a>\n",
    "#### Larger CNN classifier model \n",
    "\n",
    "**_First Layer:_** The Input Layer\n",
    "\n",
    "**_Second Layer:_** The first hidden layer - First Convolution configured with 5x5 dimensional 32 filters \n",
    "\n",
    "**_Third Layer:_** Second hidden layer- Second Convolution configured with 5x5 dimensional 32 filters\n",
    "\n",
    "**_Fourth Layer:_** Third hidden layer – First Max pooling with 2x2 dimension\n",
    "\n",
    "**_Fifth Layer:_** Fourth hidden layer – Third Convolution configured with 3x3 dimensional 15 filters\n",
    "\n",
    "**_Sixth Layer:_** Fifth hidden layer – Fourth Convolution configured with 3x3 dimensional 15 filters\n",
    "\n",
    "**_Seventh Layer:_** Second Max pooling with 2x2 dimension\n",
    "\n",
    "**_Eighth Layer:_** Dropout\n",
    "\n",
    "**_Ninth Layer:_** Flattening\n",
    "\n",
    "**_Tenth Layer:_** The full connection Dense1\n",
    "\n",
    "**_Eleventh Layer:_** The full connection Dense 2\n",
    "\n",
    "**_Twelfth Layer:_** The output Dense 3"
   ]
  },
  {
   "cell_type": "code",
   "execution_count": 14,
   "metadata": {},
   "outputs": [
    {
     "name": "stdout",
     "output_type": "stream",
     "text": [
      "Train on 60000 samples, validate on 10000 samples\n",
      "Epoch 1/12\n",
      "60000/60000 [==============================] - 991s 17ms/step - loss: 0.1944 - acc: 0.9379 - val_loss: 0.0413 - val_acc: 0.9871\n",
      "Epoch 2/12\n",
      "60000/60000 [==============================] - 976s 16ms/step - loss: 0.0499 - acc: 0.9844 - val_loss: 0.0261 - val_acc: 0.9914\n",
      "Epoch 3/12\n",
      "60000/60000 [==============================] - 994s 17ms/step - loss: 0.0363 - acc: 0.9884 - val_loss: 0.0271 - val_acc: 0.9914\n",
      "Epoch 4/12\n",
      "60000/60000 [==============================] - 1002s 17ms/step - loss: 0.0283 - acc: 0.9911 - val_loss: 0.0241 - val_acc: 0.9926\n",
      "Epoch 5/12\n",
      "60000/60000 [==============================] - 1017s 17ms/step - loss: 0.0235 - acc: 0.9926 - val_loss: 0.0311 - val_acc: 0.9891\n",
      "Epoch 6/12\n",
      "60000/60000 [==============================] - 849s 14ms/step - loss: 0.0204 - acc: 0.9937 - val_loss: 0.0240 - val_acc: 0.9920\n",
      "Epoch 7/12\n",
      "60000/60000 [==============================] - 788s 13ms/step - loss: 0.0181 - acc: 0.9942 - val_loss: 0.0236 - val_acc: 0.9928\n",
      "Epoch 8/12\n",
      "60000/60000 [==============================] - 794s 13ms/step - loss: 0.0161 - acc: 0.9948 - val_loss: 0.0221 - val_acc: 0.9936\n",
      "Epoch 9/12\n",
      "60000/60000 [==============================] - 917s 15ms/step - loss: 0.0151 - acc: 0.9953 - val_loss: 0.0197 - val_acc: 0.9934\n",
      "Epoch 10/12\n",
      "60000/60000 [==============================] - 898s 15ms/step - loss: 0.0134 - acc: 0.9958 - val_loss: 0.0228 - val_acc: 0.9936\n",
      "Epoch 11/12\n",
      "60000/60000 [==============================] - 905s 15ms/step - loss: 0.0104 - acc: 0.9965 - val_loss: 0.0247 - val_acc: 0.9939\n",
      "Epoch 12/12\n",
      "60000/60000 [==============================] - 917s 15ms/step - loss: 0.0117 - acc: 0.9961 - val_loss: 0.0211 - val_acc: 0.9943\n",
      "10000/10000 [==============================] - 48s 5ms/step\n",
      "acc: 99.43%\n",
      "Larger CNN Error: 0.57%\n"
     ]
    }
   ],
   "source": [
    "import numpy\n",
    "from keras.datasets import mnist\n",
    "from keras.models import Sequential\n",
    "from keras.layers import Dense\n",
    "from keras.layers import Dropout\n",
    "from keras.layers import Flatten\n",
    "from keras.layers.convolutional import Conv2D\n",
    "from keras.layers.convolutional import MaxPooling2D\n",
    "from keras.utils import np_utils\n",
    "from keras import backend as K\n",
    "K.set_image_dim_ordering('th')\n",
    "\n",
    "# load data\n",
    "(X_train, y_train), (X_test, y_test) = mnist.load_data()\n",
    "\n",
    "batch_size = 128\n",
    "num_classes = 10\n",
    "epochs = 12\n",
    "\n",
    "# input image dimensions\n",
    "img_rows, img_cols = 28, 28\n",
    "\n",
    "# reshaping the array to 4-dims so that it can work with the Keras CNN\n",
    "# reshape to be [samples][pixels][width][height]\n",
    "X_train = X_train.reshape(X_train.shape[0], 1, 28, 28).astype('float32')\n",
    "X_test = X_test.reshape(X_test.shape[0], 1, 28, 28).astype('float32')\n",
    "input_shape = (1, img_rows, img_cols)\n",
    "\n",
    "# normalize inputs from 0-255 to 0-1\n",
    "X_train = X_train / 255\n",
    "X_test = X_test / 255\n",
    "# one hot encode outputs\n",
    "y_train = np_utils.to_categorical(y_train)\n",
    "y_test = np_utils.to_categorical(y_test)\n",
    "num_classes = y_test.shape[1]\n",
    "\n",
    "# define the larger model\n",
    "def larger_CNNclassifier():\n",
    "# create model\n",
    "    classifier = Sequential()\n",
    "    classifier.add(Conv2D(filters=32, kernel_size=(5,5), padding='same', input_shape= input_shape, activation='relu'))\n",
    "    classifier.add(Conv2D(filters=32, kernel_size=(5,5), padding='same', activation='relu'))\n",
    "    classifier.add(MaxPooling2D(pool_size=(2, 2)))\n",
    "    classifier.add(Conv2D(filters=32, kernel_size=(5,5), padding='same', activation='relu'))\n",
    "    classifier.add(Conv2D(filters=32, kernel_size=(5,5), padding='same', activation='relu'))\n",
    "    classifier.add(MaxPooling2D(pool_size=(2, 2)))\n",
    "    classifier.add(Dropout(0.2))\n",
    "    classifier.add(Flatten())\n",
    "    classifier.add(Dense(128, activation='relu'))\n",
    "    classifier.add(Dense(50, activation='relu'))\n",
    "    classifier.add(Dense(num_classes, activation='softmax'))\n",
    "# Compile model\n",
    "    classifier.compile(loss='categorical_crossentropy', optimizer='adam', metrics=['accuracy'])\n",
    "    return classifier\n",
    "# build the model\n",
    "largerCNNclassifier = larger_CNNclassifier()\n",
    "# Fit the model\n",
    "largerCNNclassifier_history = largerCNNclassifier.fit(X_train, y_train, validation_data=(X_test, y_test), epochs=epochs, batch_size=batch_size)\n",
    "# Final evaluation of the model\n",
    "scores = largerCNNclassifier.evaluate(X_test, y_test, verbose=1)\n",
    "print(\"acc: %.2f%%\" % (scores[1]*100))\n",
    "print(\"Larger CNN Error: %.2f%%\" % (100-scores[1]*100))"
   ]
  },
  {
   "cell_type": "code",
   "execution_count": 15,
   "metadata": {},
   "outputs": [
    {
     "name": "stdout",
     "output_type": "stream",
     "text": [
      "_________________________________________________________________\n",
      "Layer (type)                 Output Shape              Param #   \n",
      "=================================================================\n",
      "conv2d_5 (Conv2D)            (None, 32, 28, 28)        832       \n",
      "_________________________________________________________________\n",
      "conv2d_6 (Conv2D)            (None, 32, 28, 28)        25632     \n",
      "_________________________________________________________________\n",
      "max_pooling2d_3 (MaxPooling2 (None, 32, 14, 14)        0         \n",
      "_________________________________________________________________\n",
      "conv2d_7 (Conv2D)            (None, 32, 14, 14)        25632     \n",
      "_________________________________________________________________\n",
      "conv2d_8 (Conv2D)            (None, 32, 14, 14)        25632     \n",
      "_________________________________________________________________\n",
      "max_pooling2d_4 (MaxPooling2 (None, 32, 7, 7)          0         \n",
      "_________________________________________________________________\n",
      "dropout_2 (Dropout)          (None, 32, 7, 7)          0         \n",
      "_________________________________________________________________\n",
      "flatten_2 (Flatten)          (None, 1568)              0         \n",
      "_________________________________________________________________\n",
      "dense_4 (Dense)              (None, 128)               200832    \n",
      "_________________________________________________________________\n",
      "dense_5 (Dense)              (None, 50)                6450      \n",
      "_________________________________________________________________\n",
      "dense_6 (Dense)              (None, 10)                510       \n",
      "=================================================================\n",
      "Total params: 285,520\n",
      "Trainable params: 285,520\n",
      "Non-trainable params: 0\n",
      "_________________________________________________________________\n"
     ]
    }
   ],
   "source": [
    "import os\n",
    "largerCNNclassifier.summary()"
   ]
  },
  {
   "cell_type": "code",
   "execution_count": 16,
   "metadata": {},
   "outputs": [
    {
     "data": {
      "image/png": "[encoded data removed]",
      "text/plain": [
       "<Figure size 432x288 with 1 Axes>"
      ]
     },
     "metadata": {
      "needs_background": "light"
     },
     "output_type": "display_data"
    },
    {
     "data": {
      "image/png": "[encoded data removed]",
      "text/plain": [
       "<Figure size 432x288 with 1 Axes>"
      ]
     },
     "metadata": {
      "needs_background": "light"
     },
     "output_type": "display_data"
    }
   ],
   "source": [
    "import matplotlib.pyplot as plt\n",
    "%matplotlib inline \n",
    "plt.plot(largerCNNclassifier_history.history['acc'])\n",
    "plt.plot(largerCNNclassifier_history.history['val_acc'])\n",
    "plt.title('Larger CNN model accuracy')\n",
    "plt.ylabel('accuracy')\n",
    "plt.xlabel('epoch')\n",
    "plt.legend(['train', 'test'], loc='upper left')\n",
    "plt.show()\n",
    " \n",
    "plt.plot(largerCNNclassifier_history.history['loss'])\n",
    "plt.plot(largerCNNclassifier_history.history['val_loss'])\n",
    "plt.title('Larger CNN loss accuracy')\n",
    "plt.ylabel('loss')\n",
    "plt.xlabel('epoch')\n",
    "plt.legend(['train', 'test'], loc='upper left')\n",
    "plt.show()"
   ]
  },
  {
   "cell_type": "markdown",
   "metadata": {},
   "source": [
    "#### Saving Keras Model\n",
    "To save a Keras model into a single HDF5 file which will contain: the architecture of the model, allowing to re-create the model; the weights of the model; the training configuration (loss, optimizer); the state of the optimizer, allowing to resume training exactly where it was left off, the following codes are used."
   ]
  },
  {
   "cell_type": "code",
   "execution_count": 19,
   "metadata": {},
   "outputs": [],
   "source": [
    "from keras.models import load_model\n",
    "largerCNNclassifier.save('FashionMNIST.h5')  # creates a HDF5 file 'FashionMNIST.h5'\n",
    "del largerCNNclassifier  # deletes the existing model\n",
    "\n",
    "# returns a compiled model identical to the previous one\n",
    "largerCNNclassifier = load_model('FashionMNIST.h5')\n",
    "\n",
    "#Saving/loading only a model's architecture\n",
    "# save as JSON\n",
    "#json_string = classifier.to_json()\n",
    "\n",
    "# save as YAML\n",
    "#yaml_string = classifier.to_yaml()\n",
    "# model reconstruction from JSON:\n",
    "#from keras.models import model_from_json\n",
    "#classifier = model_from_json(json_string)\n",
    "\n",
    "# model reconstruction from YAML:\n",
    "#from keras.models import model_from_yaml\n",
    "#classifier = model_from_yaml(yaml_string)"
   ]
  },
  {
   "cell_type": "code",
   "execution_count": 20,
   "metadata": {},
   "outputs": [
    {
     "data": {
      "image/png": "[encoded data removed]",
      "text/plain": [
       "<Figure size 432x288 with 2 Axes>"
      ]
     },
     "metadata": {
      "needs_background": "light"
     },
     "output_type": "display_data"
    }
   ],
   "source": [
    "from sklearn.metrics import confusion_matrix\n",
    "import itertools\n",
    "import numpy as np\n",
    "import matplotlib.pyplot as plt\n",
    "%matplotlib inline\n",
    "def plot_confusion_matrix(cm, classes, normalize=False, title='Confusion matrix', cmap=plt.cm.Blues):\n",
    "    \"\"\"\n",
    "    This function prints and plots the confusion matrix.\n",
    "    Normalization can be applied by setting `normalize=True`.\n",
    "    \"\"\"\n",
    "    plt.imshow(cm, interpolation='nearest', cmap=cmap)\n",
    "    plt.title(title)\n",
    "    plt.colorbar()\n",
    "    tick_marks = np.arange(len(classes))\n",
    "    plt.xticks(tick_marks, classes, rotation=45)\n",
    "    plt.yticks(tick_marks, classes)\n",
    "\n",
    "    if normalize:\n",
    "        cm = cm.astype('float') / cm.sum(axis=1)[:, np.newaxis]\n",
    "\n",
    "    thresh = cm.max() / 2.\n",
    "    for i, j in itertools.product(range(cm.shape[0]), range(cm.shape[1])):\n",
    "        plt.text(j, i, cm[i, j],\n",
    "                 horizontalalignment=\"center\",\n",
    "                 color=\"white\" if cm[i, j] > thresh else \"black\")\n",
    "\n",
    "    plt.tight_layout()\n",
    "    plt.ylabel('True label')\n",
    "    plt.xlabel('Predicted label')\n",
    "\n",
    "# Predict the values from the validation dataset\n",
    "ypred_onehot = largerCNNclassifier.predict(X_test)\n",
    "# Convert predictions classes from one hot vectors to labels: [0 0 1 0 0 ...] --> 2\n",
    "ypred = np.argmax(ypred_onehot,axis=1)\n",
    "# Convert validation observations from one hot vectors to labels\n",
    "ytrue = np.argmax(y_test,axis=1)\n",
    "# compute the confusion matrix\n",
    "confusion_mtx = confusion_matrix(ytrue, ypred)\n",
    "# plot the confusion matrix\n",
    "plot_confusion_matrix(confusion_mtx, classes=range(num_classes))"
   ]
  },
  {
   "cell_type": "markdown",
   "metadata": {},
   "source": [
    "## **3. Conclusion** <a name=\"conclusion\"></a>\n",
    "I have successfully built & saved a convolutional neural network model to recognize & classify hand written digits with TensorFlow backend Keras API which achieved accuracy over 99% \n",
    "\n",
    "\n",
    "## **4. References** <a name=\"conclusion\"></a>\n",
    "1.\tUnderstanding the DeepLearnToolbox CNN Example http://mccormickml.com/2015/01/10/understanding-the-deeplearntoolbox-cnn-example/\n",
    "2.\tDescription of the MNIST Handwritten Digit Recognition Problem https://machinelearningmastery.com/handwritten-digit-recognition-using-convolutional-neural-networks-python-keras/ \n",
    "3.\tMNIST database of handwritten digits https://keras.io/datasets/#mnist-database-of-handwritten-digits\n",
    "4.\tKeras Documentation: How can I save a Keras model? https://keras.io/getting-started/faq/#how-can-i-save-a-keras-model\n",
    "5.\tReconhecimento de escrita manual com Redes Neurais Convolucionais https://medium.com/luisfredgs/reconhecimento-de-escrita-manual-com-redes-neurais-convolucionais-6fca996af39e"
   ]
  }
 ],
 "metadata": {
  "kernelspec": {
   "display_name": "Python 3",
   "language": "python",
   "name": "python3"
  },
  "language_info": {
   "codemirror_mode": {
    "name": "ipython",
    "version": 3
   },
   "file_extension": ".py",
   "mimetype": "text/x-python",
   "name": "python",
   "nbconvert_exporter": "python",
   "pygments_lexer": "ipython3",
   "version": "3.7.3"
  }
 },
 "nbformat": 4,
 "nbformat_minor": 2
}
