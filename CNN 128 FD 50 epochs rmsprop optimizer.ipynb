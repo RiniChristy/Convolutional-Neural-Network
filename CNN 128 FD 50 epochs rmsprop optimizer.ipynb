{
 "cells": [
  {
   "cell_type": "code",
   "execution_count": 1,
   "metadata": {},
   "outputs": [
    {
     "name": "stderr",
     "output_type": "stream",
     "text": [
      "Using TensorFlow backend.\n"
     ]
    },
    {
     "name": "stdout",
     "output_type": "stream",
     "text": [
      "WARNING:tensorflow:From C:\\Users\\Christy\\Anaconda3\\lib\\site-packages\\tensorflow\\python\\framework\\op_def_library.py:263: colocate_with (from tensorflow.python.framework.ops) is deprecated and will be removed in a future version.\n",
      "Instructions for updating:\n",
      "Colocations handled automatically by placer.\n",
      "Found 8000 images belonging to 2 classes.\n",
      "Found 2000 images belonging to 2 classes.\n",
      "WARNING:tensorflow:From C:\\Users\\Christy\\Anaconda3\\lib\\site-packages\\tensorflow\\python\\ops\\math_ops.py:3066: to_int32 (from tensorflow.python.ops.math_ops) is deprecated and will be removed in a future version.\n",
      "Instructions for updating:\n",
      "Use tf.cast instead.\n",
      "Epoch 1/50\n",
      "250/250 [==============================] - 523s 2s/step - loss: 0.6914 - acc: 0.5354 - val_loss: 0.6532 - val_acc: 0.6035\n",
      "Epoch 2/50\n",
      "250/250 [==============================] - 517s 2s/step - loss: 0.6510 - acc: 0.6331 - val_loss: 0.5861 - val_acc: 0.7060\n",
      "Epoch 3/50\n",
      "250/250 [==============================] - 503s 2s/step - loss: 0.6035 - acc: 0.6723 - val_loss: 0.5512 - val_acc: 0.7255\n",
      "Epoch 4/50\n",
      "250/250 [==============================] - 507s 2s/step - loss: 0.5733 - acc: 0.7046 - val_loss: 0.5516 - val_acc: 0.7195\n",
      "Epoch 5/50\n",
      "250/250 [==============================] - 513s 2s/step - loss: 0.5469 - acc: 0.7293 - val_loss: 0.5386 - val_acc: 0.7335\n",
      "Epoch 6/50\n",
      "250/250 [==============================] - 511s 2s/step - loss: 0.5214 - acc: 0.7460 - val_loss: 0.5056 - val_acc: 0.7510\n",
      "Epoch 7/50\n",
      "250/250 [==============================] - 511s 2s/step - loss: 0.4944 - acc: 0.7612 - val_loss: 0.5903 - val_acc: 0.7340\n",
      "Epoch 8/50\n",
      "250/250 [==============================] - 522s 2s/step - loss: 0.4743 - acc: 0.7734 - val_loss: 0.4693 - val_acc: 0.7785\n",
      "Epoch 9/50\n",
      "250/250 [==============================] - 521s 2s/step - loss: 0.4501 - acc: 0.7895 - val_loss: 0.4322 - val_acc: 0.8110\n",
      "Epoch 10/50\n",
      "250/250 [==============================] - 471s 2s/step - loss: 0.4317 - acc: 0.7990 - val_loss: 0.4187 - val_acc: 0.8155\n",
      "Epoch 11/50\n",
      "250/250 [==============================] - 434s 2s/step - loss: 0.4095 - acc: 0.8136 - val_loss: 0.4156 - val_acc: 0.8160\n",
      "Epoch 12/50\n",
      "250/250 [==============================] - 450s 2s/step - loss: 0.4022 - acc: 0.8166 - val_loss: 0.4156 - val_acc: 0.8140\n",
      "Epoch 13/50\n",
      "250/250 [==============================] - 457s 2s/step - loss: 0.3828 - acc: 0.8295 - val_loss: 0.4412 - val_acc: 0.8065\n",
      "Epoch 14/50\n",
      "250/250 [==============================] - 443s 2s/step - loss: 0.3753 - acc: 0.8314 - val_loss: 0.5733 - val_acc: 0.7400\n",
      "Epoch 15/50\n",
      "250/250 [==============================] - 440s 2s/step - loss: 0.3592 - acc: 0.8385 - val_loss: 0.3598 - val_acc: 0.8405\n",
      "Epoch 16/50\n",
      "250/250 [==============================] - 440s 2s/step - loss: 0.3506 - acc: 0.8436 - val_loss: 0.4377 - val_acc: 0.8335\n",
      "Epoch 17/50\n",
      "250/250 [==============================] - 439s 2s/step - loss: 0.3374 - acc: 0.8505 - val_loss: 0.4220 - val_acc: 0.8385\n",
      "Epoch 18/50\n",
      "250/250 [==============================] - 441s 2s/step - loss: 0.3360 - acc: 0.8525 - val_loss: 0.5180 - val_acc: 0.8160\n",
      "Epoch 19/50\n",
      "250/250 [==============================] - 483s 2s/step - loss: 0.3178 - acc: 0.8691 - val_loss: 0.4082 - val_acc: 0.8160\n",
      "Epoch 20/50\n",
      "250/250 [==============================] - 555s 2s/step - loss: 0.3180 - acc: 0.8641 - val_loss: 0.3742 - val_acc: 0.8315\n",
      "Epoch 21/50\n",
      "250/250 [==============================] - 546s 2s/step - loss: 0.3125 - acc: 0.8631 - val_loss: 0.3529 - val_acc: 0.8515\n",
      "Epoch 22/50\n",
      "250/250 [==============================] - 550s 2s/step - loss: 0.3121 - acc: 0.8694 - val_loss: 0.5369 - val_acc: 0.8230\n",
      "Epoch 23/50\n",
      "250/250 [==============================] - 559s 2s/step - loss: 0.3012 - acc: 0.8751 - val_loss: 0.3724 - val_acc: 0.8415\n",
      "Epoch 24/50\n",
      "250/250 [==============================] - 556s 2s/step - loss: 0.2863 - acc: 0.8776 - val_loss: 0.3484 - val_acc: 0.8600\n",
      "Epoch 25/50\n",
      "250/250 [==============================] - 548s 2s/step - loss: 0.2859 - acc: 0.8799 - val_loss: 0.4170 - val_acc: 0.8520\n",
      "Epoch 26/50\n",
      "250/250 [==============================] - 548s 2s/step - loss: 0.2812 - acc: 0.8872 - val_loss: 0.6877 - val_acc: 0.8015\n",
      "Epoch 27/50\n",
      "250/250 [==============================] - 546s 2s/step - loss: 0.2716 - acc: 0.8858 - val_loss: 0.4022 - val_acc: 0.8455\n",
      "Epoch 28/50\n",
      "250/250 [==============================] - 548s 2s/step - loss: 0.2722 - acc: 0.8909 - val_loss: 0.3485 - val_acc: 0.8600\n",
      "Epoch 29/50\n",
      "250/250 [==============================] - 551s 2s/step - loss: 0.2629 - acc: 0.8962 - val_loss: 0.4959 - val_acc: 0.8140\n",
      "Epoch 30/50\n",
      "250/250 [==============================] - 554s 2s/step - loss: 0.2619 - acc: 0.8956 - val_loss: 0.3729 - val_acc: 0.8540\n",
      "Epoch 31/50\n",
      "250/250 [==============================] - 547s 2s/step - loss: 0.2434 - acc: 0.8978 - val_loss: 0.4885 - val_acc: 0.8465\n",
      "Epoch 32/50\n",
      "250/250 [==============================] - 547s 2s/step - loss: 0.2625 - acc: 0.8982 - val_loss: 0.3749 - val_acc: 0.8580\n",
      "Epoch 33/50\n",
      "250/250 [==============================] - 544s 2s/step - loss: 0.2525 - acc: 0.8992 - val_loss: 0.3735 - val_acc: 0.8455\n",
      "Epoch 34/50\n",
      "250/250 [==============================] - 547s 2s/step - loss: 0.2396 - acc: 0.9049 - val_loss: 0.5621 - val_acc: 0.8565\n",
      "Epoch 35/50\n",
      "250/250 [==============================] - 549s 2s/step - loss: 0.2469 - acc: 0.9021 - val_loss: 0.4152 - val_acc: 0.8295\n",
      "Epoch 36/50\n",
      "250/250 [==============================] - 548s 2s/step - loss: 0.2453 - acc: 0.8976 - val_loss: 0.4506 - val_acc: 0.8410\n",
      "Epoch 37/50\n",
      "250/250 [==============================] - 546s 2s/step - loss: 0.2342 - acc: 0.9050 - val_loss: 0.4404 - val_acc: 0.8465\n",
      "Epoch 38/50\n",
      "250/250 [==============================] - 451s 2s/step - loss: 0.2386 - acc: 0.9012 - val_loss: 0.4349 - val_acc: 0.8650\n",
      "Epoch 39/50\n",
      "250/250 [==============================] - 425s 2s/step - loss: 0.2328 - acc: 0.9071 - val_loss: 0.4184 - val_acc: 0.8360\n",
      "Epoch 40/50\n",
      "250/250 [==============================] - 424s 2s/step - loss: 0.2393 - acc: 0.9092 - val_loss: 0.3448 - val_acc: 0.8525\n",
      "Epoch 41/50\n",
      "250/250 [==============================] - 423s 2s/step - loss: 0.2265 - acc: 0.9106 - val_loss: 0.7907 - val_acc: 0.8390\n",
      "Epoch 42/50\n",
      "250/250 [==============================] - 423s 2s/step - loss: 0.2249 - acc: 0.9111 - val_loss: 0.3843 - val_acc: 0.8620\n",
      "Epoch 43/50\n",
      "250/250 [==============================] - 424s 2s/step - loss: 0.2320 - acc: 0.9101 - val_loss: 0.4029 - val_acc: 0.8735\n",
      "Epoch 44/50\n",
      "250/250 [==============================] - 424s 2s/step - loss: 0.2213 - acc: 0.9146 - val_loss: 0.4477 - val_acc: 0.8570\n",
      "Epoch 45/50\n",
      "250/250 [==============================] - 425s 2s/step - loss: 0.2315 - acc: 0.9110 - val_loss: 0.3593 - val_acc: 0.8560\n",
      "Epoch 46/50\n",
      "250/250 [==============================] - 430s 2s/step - loss: 0.2259 - acc: 0.9141 - val_loss: 0.6924 - val_acc: 0.8365\n",
      "Epoch 47/50\n",
      "250/250 [==============================] - 422s 2s/step - loss: 0.2354 - acc: 0.9119 - val_loss: 0.4554 - val_acc: 0.8710\n",
      "Epoch 48/50\n",
      "250/250 [==============================] - 422s 2s/step - loss: 0.2207 - acc: 0.9143 - val_loss: 0.3748 - val_acc: 0.8665\n",
      "Epoch 49/50\n",
      "250/250 [==============================] - 421s 2s/step - loss: 0.2118 - acc: 0.9124 - val_loss: 0.3893 - val_acc: 0.8650\n",
      "Epoch 50/50\n",
      "250/250 [==============================] - 421s 2s/step - loss: 0.2273 - acc: 0.9146 - val_loss: 0.5415 - val_acc: 0.8510\n"
     ]
    }
   ],
   "source": [
    "# Part 1 - Building the CNN\n",
    "\n",
    "# Importing the Keras libraries and packages\n",
    "from keras.models import Sequential\n",
    "from keras.layers import Conv2D\n",
    "from keras.layers import MaxPooling2D\n",
    "from keras.layers import Flatten\n",
    "from keras.layers import Dense\n",
    "\n",
    "# Initialising the CNN\n",
    "classifier = Sequential()\n",
    "\n",
    "# Step 1 - Convolution\n",
    "classifier.add(Conv2D(128, (3, 3), input_shape = (64, 64, 3), activation = 'relu'))\n",
    "# 32 feature detector(filters) with 3 rows and 3 columns (3 X 3 dimension) to create a convolutional layers with 32 feature maps\n",
    "# working with cpu go for 32 instead of 64.\n",
    "# to convert all our input image into all same single format with fixed size.\n",
    "# 3d array for coloured and 2D for B&W\n",
    "# 3D array composed of 3 channels, each channel corresponds to one colour (Blue, Green & Red and each channel corresponds to one 2D array that contains the pixels of our images.\n",
    "# input_shape(64, 64, 3) for tensor flow backened corresponds to  3 channels for RBG (1 if B&W) with 256 X 256 are the dimensions of the 2D array.\n",
    "# for theono backened use (3, 64, 64)\n",
    "# activation = 'relu', rectifier function for nonlinearity\n",
    "\n",
    "# Step 2 - Pooling\n",
    "classifier.add(MaxPooling2D(pool_size = (2, 2)))\n",
    "\n",
    "# Adding a second convolutional layer to improve the accuracy of the test set. \n",
    "classifier.add(Conv2D(128, (3, 3), activation = 'relu'))\n",
    "classifier.add(MaxPooling2D(pool_size = (2, 2)))\n",
    "\n",
    "# Adding a third convolutional layer to improve the accuracy of the test set. \n",
    "classifier.add(Conv2D(128, (3, 3), activation = 'relu'))\n",
    "classifier.add(MaxPooling2D(pool_size = (2, 2)))\n",
    "\n",
    "# Adding a fourth convolutional layer to improve the accuracy of the test set. \n",
    "classifier.add(Conv2D(128, (3, 3), activation = 'relu'))\n",
    "classifier.add(MaxPooling2D(pool_size = (2, 2)))\n",
    "\n",
    "# Step 3 - Flattening\n",
    "classifier.add(Flatten())\n",
    "\n",
    "# Step 4 - Full connection\n",
    "classifier.add(Dense(activation = 'relu', units = 128))\n",
    "classifier.add(Dense(activation = 'sigmoid', units = 1))\n",
    "\n",
    "\n",
    "# Compiling the CNN\n",
    "classifier.compile(optimizer = 'rmsprop', loss = 'binary_crossentropy', metrics = ['accuracy'])\n",
    "\n",
    "# Part 2 - Fitting the CNN to the images\n",
    "from keras.preprocessing.image import ImageDataGenerator\n",
    "\n",
    "train_datagen = ImageDataGenerator(rescale = 1./255,\n",
    "                                   shear_range = 0.2,\n",
    "                                   zoom_range = 0.2,\n",
    "                                   horizontal_flip = True)\n",
    "\n",
    "test_datagen = ImageDataGenerator(rescale = 1./255)\n",
    "\n",
    "training_set = train_datagen.flow_from_directory('dataset/training_set',\n",
    "                                                 target_size = (64, 64),\n",
    "                                                 batch_size = 32,\n",
    "                                                 class_mode = 'binary')\n",
    "\n",
    "test_set = test_datagen.flow_from_directory('dataset/test_set',\n",
    "                                            target_size = (64, 64),\n",
    "                                            batch_size = 32,\n",
    "                                            class_mode = 'binary')\n",
    "batch_size = 32\n",
    "classifier_history = classifier.fit_generator(training_set,\n",
    "                         steps_per_epoch = 8000/batch_size,\n",
    "                         epochs = 50,\n",
    "                         validation_data = test_set,\n",
    "                         validation_steps = 2000/batch_size)"
   ]
  },
  {
   "cell_type": "code",
   "execution_count": 2,
   "metadata": {},
   "outputs": [
    {
     "data": {
      "image/png": "[encoded data removed]",
      "text/plain": [
       "<Figure size 432x288 with 1 Axes>"
      ]
     },
     "metadata": {
      "needs_background": "light"
     },
     "output_type": "display_data"
    },
    {
     "data": {
      "image/png": "[encoded data removed]",
      "text/plain": [
       "<Figure size 432x288 with 1 Axes>"
      ]
     },
     "metadata": {
      "needs_background": "light"
     },
     "output_type": "display_data"
    },
    {
     "name": "stdout",
     "output_type": "stream",
     "text": [
      "The model class indices are: {'cats': 0, 'dogs': 1}\n"
     ]
    }
   ],
   "source": [
    "import matplotlib.pyplot as plt\n",
    "%matplotlib inline \n",
    "plt.plot(classifier_history.history['acc'])\n",
    "plt.plot(classifier_history.history['val_acc'])\n",
    "plt.title('model accuracy')\n",
    "plt.ylabel('accuracy')\n",
    "plt.xlabel('epoch')\n",
    "plt.legend(['train', 'test'], loc='upper left')\n",
    "plt.show()\n",
    " \n",
    "plt.plot(classifier_history.history['loss'])\n",
    "plt.plot(classifier_history.history['val_loss'])\n",
    "plt.title('loss accuracy')\n",
    "plt.ylabel('loss')\n",
    "plt.xlabel('epoch')\n",
    "plt.legend(['train', 'test'], loc='upper left')\n",
    "plt.show()\n",
    "print(\"The model class indices are:\", training_set.class_indices)"
   ]
  },
  {
   "cell_type": "code",
   "execution_count": 3,
   "metadata": {},
   "outputs": [
    {
     "data": {
      "text/plain": [
       "'dog'"
      ]
     },
     "execution_count": 3,
     "metadata": {},
     "output_type": "execute_result"
    }
   ],
   "source": [
    "# Part 3 - Making new predictions\n",
    "import numpy as np\n",
    "from keras.preprocessing import image\n",
    "test_image = image.load_img('dataset/single_prediction/cat_or_dog_1.jpg', target_size = (64, 64))\n",
    "test_image = image.img_to_array(test_image)\n",
    "test_image = np.expand_dims(test_image, axis = 0)\n",
    "result = classifier.predict(test_image)\n",
    "training_set.class_indices\n",
    "if result[0][0] == 1:\n",
    "    prediction = 'dog'\n",
    "else:\n",
    "    prediction = 'cat'\n",
    "prediction"
   ]
  },
  {
   "cell_type": "code",
   "execution_count": 5,
   "metadata": {},
   "outputs": [
    {
     "data": {
      "text/plain": [
       "'cat'"
      ]
     },
     "execution_count": 5,
     "metadata": {},
     "output_type": "execute_result"
    }
   ],
   "source": [
    "# Part 3 - Making new predictions\n",
    "import numpy as np\n",
    "from keras.preprocessing import image\n",
    "test_image = image.load_img('dataset/single_prediction/cat_or_dog_2.jpg', target_size = (64, 64))\n",
    "test_image = image.img_to_array(test_image)\n",
    "test_image = np.expand_dims(test_image, axis = 0)\n",
    "result = classifier.predict(test_image)\n",
    "training_set.class_indices\n",
    "if result[0][0] == 1:\n",
    "    prediction = 'dog'\n",
    "else:\n",
    "    prediction = 'cat'\n",
    "prediction"
   ]
  },
  {
   "cell_type": "code",
   "execution_count": 6,
   "metadata": {},
   "outputs": [
    {
     "data": {
      "text/plain": [
       "[0.535375,\n",
       " 0.633125,\n",
       " 0.67225,\n",
       " 0.704625,\n",
       " 0.72925,\n",
       " 0.746,\n",
       " 0.76125,\n",
       " 0.773375,\n",
       " 0.7895,\n",
       " 0.799,\n",
       " 0.813625,\n",
       " 0.816625,\n",
       " 0.8295,\n",
       " 0.831375,\n",
       " 0.8385,\n",
       " 0.843625,\n",
       " 0.8505,\n",
       " 0.8525,\n",
       " 0.869125,\n",
       " 0.864125,\n",
       " 0.863125,\n",
       " 0.869375,\n",
       " 0.875125,\n",
       " 0.877625,\n",
       " 0.879875,\n",
       " 0.88725,\n",
       " 0.88575,\n",
       " 0.890875,\n",
       " 0.89625,\n",
       " 0.895625,\n",
       " 0.89775,\n",
       " 0.89825,\n",
       " 0.89925,\n",
       " 0.904875,\n",
       " 0.902125,\n",
       " 0.897625,\n",
       " 0.905,\n",
       " 0.90125,\n",
       " 0.907125,\n",
       " 0.90925,\n",
       " 0.910625,\n",
       " 0.911125,\n",
       " 0.910125,\n",
       " 0.914625,\n",
       " 0.911,\n",
       " 0.914125,\n",
       " 0.911875,\n",
       " 0.91425,\n",
       " 0.912375,\n",
       " 0.914625]"
      ]
     },
     "execution_count": 6,
     "metadata": {},
     "output_type": "execute_result"
    }
   ],
   "source": [
    "classifier_history.history['acc']"
   ]
  },
  {
   "cell_type": "code",
   "execution_count": 7,
   "metadata": {},
   "outputs": [
    {
     "data": {
      "text/plain": [
       "[0.6035,\n",
       " 0.706,\n",
       " 0.7255,\n",
       " 0.7195,\n",
       " 0.7335,\n",
       " 0.751,\n",
       " 0.734,\n",
       " 0.7785,\n",
       " 0.811,\n",
       " 0.8155,\n",
       " 0.816,\n",
       " 0.814,\n",
       " 0.8065,\n",
       " 0.74,\n",
       " 0.8405,\n",
       " 0.8335,\n",
       " 0.8385,\n",
       " 0.816,\n",
       " 0.816,\n",
       " 0.8315,\n",
       " 0.8515,\n",
       " 0.823,\n",
       " 0.8415,\n",
       " 0.86,\n",
       " 0.852,\n",
       " 0.8015,\n",
       " 0.8455,\n",
       " 0.86,\n",
       " 0.814,\n",
       " 0.854,\n",
       " 0.8465,\n",
       " 0.858,\n",
       " 0.8455,\n",
       " 0.8565,\n",
       " 0.8295,\n",
       " 0.841,\n",
       " 0.8465,\n",
       " 0.865,\n",
       " 0.836,\n",
       " 0.8525,\n",
       " 0.839,\n",
       " 0.862,\n",
       " 0.8735,\n",
       " 0.857,\n",
       " 0.856,\n",
       " 0.8365,\n",
       " 0.871,\n",
       " 0.8665,\n",
       " 0.865,\n",
       " 0.851]"
      ]
     },
     "execution_count": 7,
     "metadata": {},
     "output_type": "execute_result"
    }
   ],
   "source": [
    "classifier_history.history['val_acc']"
   ]
  }
 ],
 "metadata": {
  "kernelspec": {
   "display_name": "Python 3",
   "language": "python",
   "name": "python3"
  },
  "language_info": {
   "codemirror_mode": {
    "name": "ipython",
    "version": 3
   },
   "file_extension": ".py",
   "mimetype": "text/x-python",
   "name": "python",
   "nbconvert_exporter": "python",
   "pygments_lexer": "ipython3",
   "version": "3.7.3"
  }
 },
 "nbformat": 4,
 "nbformat_minor": 2
}
